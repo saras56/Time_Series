{
 "cells": [
  {
   "cell_type": "markdown",
   "metadata": {},
   "source": [
    "#### Probelm statement\n",
    "\n",
    "Given the appliance usage, outside temp and relative humidity today, predict the appliance usage for tomorrow "
   ]
  },
  {
   "cell_type": "code",
   "execution_count": 77,
   "metadata": {},
   "outputs": [],
   "source": [
    "import pandas as pd\n",
    "import matplotlib.pyplot as plt\n",
    "from keras.preprocessing.sequence import TimeseriesGenerator\n",
    "from IPython.display import Image, display\n",
    "from sklearn.model_selection import train_test_split\n",
    "from sklearn.preprocessing import MinMaxScaler, StandardScaler\n",
    "from tensorflow.keras.models import Sequential\n",
    "from tensorflow.keras.layers import Dense,LSTM, Flatten,ConvLSTM2D,Dropout\n",
    "from sklearn.metrics import mean_squared_error,mean_absolute_error\n",
    "from tensorflow.keras.callbacks import EarlyStopping\n",
    "\n",
    "plt.rcParams['figure.figsize'] = (10, 8)\n",
    "plt.rcParams['axes.grid'] = False"
   ]
  },
  {
   "cell_type": "code",
   "execution_count": 3,
   "metadata": {},
   "outputs": [
    {
     "data": {
      "text/html": [
       "<div>\n",
       "<style scoped>\n",
       "    .dataframe tbody tr th:only-of-type {\n",
       "        vertical-align: middle;\n",
       "    }\n",
       "\n",
       "    .dataframe tbody tr th {\n",
       "        vertical-align: top;\n",
       "    }\n",
       "\n",
       "    .dataframe thead th {\n",
       "        text-align: right;\n",
       "    }\n",
       "</style>\n",
       "<table border=\"1\" class=\"dataframe\">\n",
       "  <thead>\n",
       "    <tr style=\"text-align: right;\">\n",
       "      <th></th>\n",
       "      <th>date</th>\n",
       "      <th>Appliances</th>\n",
       "      <th>lights</th>\n",
       "      <th>T1</th>\n",
       "      <th>RH_1</th>\n",
       "      <th>T2</th>\n",
       "      <th>RH_2</th>\n",
       "      <th>T3</th>\n",
       "      <th>RH_3</th>\n",
       "      <th>T4</th>\n",
       "      <th>...</th>\n",
       "      <th>T9</th>\n",
       "      <th>RH_9</th>\n",
       "      <th>T_out</th>\n",
       "      <th>Press_mm_hg</th>\n",
       "      <th>RH_out</th>\n",
       "      <th>Windspeed</th>\n",
       "      <th>Visibility</th>\n",
       "      <th>Tdewpoint</th>\n",
       "      <th>rv1</th>\n",
       "      <th>rv2</th>\n",
       "    </tr>\n",
       "  </thead>\n",
       "  <tbody>\n",
       "    <tr>\n",
       "      <th>0</th>\n",
       "      <td>2016-01-11 17:00:00</td>\n",
       "      <td>60</td>\n",
       "      <td>30</td>\n",
       "      <td>19.89</td>\n",
       "      <td>47.596667</td>\n",
       "      <td>19.2</td>\n",
       "      <td>44.790000</td>\n",
       "      <td>19.79</td>\n",
       "      <td>44.730000</td>\n",
       "      <td>19.000000</td>\n",
       "      <td>...</td>\n",
       "      <td>17.033333</td>\n",
       "      <td>45.53</td>\n",
       "      <td>6.600000</td>\n",
       "      <td>733.5</td>\n",
       "      <td>92.0</td>\n",
       "      <td>7.000000</td>\n",
       "      <td>63.000000</td>\n",
       "      <td>5.3</td>\n",
       "      <td>13.275433</td>\n",
       "      <td>13.275433</td>\n",
       "    </tr>\n",
       "    <tr>\n",
       "      <th>1</th>\n",
       "      <td>2016-01-11 17:10:00</td>\n",
       "      <td>60</td>\n",
       "      <td>30</td>\n",
       "      <td>19.89</td>\n",
       "      <td>46.693333</td>\n",
       "      <td>19.2</td>\n",
       "      <td>44.722500</td>\n",
       "      <td>19.79</td>\n",
       "      <td>44.790000</td>\n",
       "      <td>19.000000</td>\n",
       "      <td>...</td>\n",
       "      <td>17.066667</td>\n",
       "      <td>45.56</td>\n",
       "      <td>6.483333</td>\n",
       "      <td>733.6</td>\n",
       "      <td>92.0</td>\n",
       "      <td>6.666667</td>\n",
       "      <td>59.166667</td>\n",
       "      <td>5.2</td>\n",
       "      <td>18.606195</td>\n",
       "      <td>18.606195</td>\n",
       "    </tr>\n",
       "    <tr>\n",
       "      <th>2</th>\n",
       "      <td>2016-01-11 17:20:00</td>\n",
       "      <td>50</td>\n",
       "      <td>30</td>\n",
       "      <td>19.89</td>\n",
       "      <td>46.300000</td>\n",
       "      <td>19.2</td>\n",
       "      <td>44.626667</td>\n",
       "      <td>19.79</td>\n",
       "      <td>44.933333</td>\n",
       "      <td>18.926667</td>\n",
       "      <td>...</td>\n",
       "      <td>17.000000</td>\n",
       "      <td>45.50</td>\n",
       "      <td>6.366667</td>\n",
       "      <td>733.7</td>\n",
       "      <td>92.0</td>\n",
       "      <td>6.333333</td>\n",
       "      <td>55.333333</td>\n",
       "      <td>5.1</td>\n",
       "      <td>28.642668</td>\n",
       "      <td>28.642668</td>\n",
       "    </tr>\n",
       "  </tbody>\n",
       "</table>\n",
       "<p>3 rows × 29 columns</p>\n",
       "</div>"
      ],
      "text/plain": [
       "                  date  Appliances  lights     T1       RH_1    T2       RH_2  \\\n",
       "0  2016-01-11 17:00:00          60      30  19.89  47.596667  19.2  44.790000   \n",
       "1  2016-01-11 17:10:00          60      30  19.89  46.693333  19.2  44.722500   \n",
       "2  2016-01-11 17:20:00          50      30  19.89  46.300000  19.2  44.626667   \n",
       "\n",
       "      T3       RH_3         T4  ...         T9   RH_9     T_out  Press_mm_hg  \\\n",
       "0  19.79  44.730000  19.000000  ...  17.033333  45.53  6.600000        733.5   \n",
       "1  19.79  44.790000  19.000000  ...  17.066667  45.56  6.483333        733.6   \n",
       "2  19.79  44.933333  18.926667  ...  17.000000  45.50  6.366667        733.7   \n",
       "\n",
       "   RH_out  Windspeed  Visibility  Tdewpoint        rv1        rv2  \n",
       "0    92.0   7.000000   63.000000        5.3  13.275433  13.275433  \n",
       "1    92.0   6.666667   59.166667        5.2  18.606195  18.606195  \n",
       "2    92.0   6.333333   55.333333        5.1  28.642668  28.642668  \n",
       "\n",
       "[3 rows x 29 columns]"
      ]
     },
     "execution_count": 3,
     "metadata": {},
     "output_type": "execute_result"
    }
   ],
   "source": [
    "df  = pd.read_csv('energydata_complete.csv')\n",
    "df.head(3)"
   ]
  },
  {
   "cell_type": "code",
   "execution_count": 35,
   "metadata": {},
   "outputs": [
    {
     "data": {
      "text/html": [
       "<div>\n",
       "<style scoped>\n",
       "    .dataframe tbody tr th:only-of-type {\n",
       "        vertical-align: middle;\n",
       "    }\n",
       "\n",
       "    .dataframe tbody tr th {\n",
       "        vertical-align: top;\n",
       "    }\n",
       "\n",
       "    .dataframe thead th {\n",
       "        text-align: right;\n",
       "    }\n",
       "</style>\n",
       "<table border=\"1\" class=\"dataframe\">\n",
       "  <thead>\n",
       "    <tr style=\"text-align: right;\">\n",
       "      <th></th>\n",
       "      <th>date</th>\n",
       "      <th>Appliances</th>\n",
       "      <th>lights</th>\n",
       "      <th>T1</th>\n",
       "      <th>RH_1</th>\n",
       "      <th>T2</th>\n",
       "      <th>RH_2</th>\n",
       "      <th>T3</th>\n",
       "      <th>RH_3</th>\n",
       "      <th>T4</th>\n",
       "      <th>...</th>\n",
       "      <th>T9</th>\n",
       "      <th>RH_9</th>\n",
       "      <th>T_out</th>\n",
       "      <th>Press_mm_hg</th>\n",
       "      <th>RH_out</th>\n",
       "      <th>Windspeed</th>\n",
       "      <th>Visibility</th>\n",
       "      <th>Tdewpoint</th>\n",
       "      <th>rv1</th>\n",
       "      <th>rv2</th>\n",
       "    </tr>\n",
       "  </thead>\n",
       "  <tbody>\n",
       "    <tr>\n",
       "      <th>19732</th>\n",
       "      <td>2016-05-27 17:40:00</td>\n",
       "      <td>270</td>\n",
       "      <td>10</td>\n",
       "      <td>25.5</td>\n",
       "      <td>46.596667</td>\n",
       "      <td>25.628571</td>\n",
       "      <td>42.768571</td>\n",
       "      <td>27.050000</td>\n",
       "      <td>41.690000</td>\n",
       "      <td>24.7</td>\n",
       "      <td>...</td>\n",
       "      <td>23.2</td>\n",
       "      <td>46.7900</td>\n",
       "      <td>22.466667</td>\n",
       "      <td>755.2</td>\n",
       "      <td>56.333333</td>\n",
       "      <td>3.666667</td>\n",
       "      <td>25.333333</td>\n",
       "      <td>13.266667</td>\n",
       "      <td>29.199117</td>\n",
       "      <td>29.199117</td>\n",
       "    </tr>\n",
       "    <tr>\n",
       "      <th>19733</th>\n",
       "      <td>2016-05-27 17:50:00</td>\n",
       "      <td>420</td>\n",
       "      <td>10</td>\n",
       "      <td>25.5</td>\n",
       "      <td>46.990000</td>\n",
       "      <td>25.414000</td>\n",
       "      <td>43.036000</td>\n",
       "      <td>26.890000</td>\n",
       "      <td>41.290000</td>\n",
       "      <td>24.7</td>\n",
       "      <td>...</td>\n",
       "      <td>23.2</td>\n",
       "      <td>46.8175</td>\n",
       "      <td>22.333333</td>\n",
       "      <td>755.2</td>\n",
       "      <td>56.666667</td>\n",
       "      <td>3.833333</td>\n",
       "      <td>26.166667</td>\n",
       "      <td>13.233333</td>\n",
       "      <td>6.322784</td>\n",
       "      <td>6.322784</td>\n",
       "    </tr>\n",
       "    <tr>\n",
       "      <th>19734</th>\n",
       "      <td>2016-05-27 18:00:00</td>\n",
       "      <td>430</td>\n",
       "      <td>10</td>\n",
       "      <td>25.5</td>\n",
       "      <td>46.600000</td>\n",
       "      <td>25.264286</td>\n",
       "      <td>42.971429</td>\n",
       "      <td>26.823333</td>\n",
       "      <td>41.156667</td>\n",
       "      <td>24.7</td>\n",
       "      <td>...</td>\n",
       "      <td>23.2</td>\n",
       "      <td>46.8450</td>\n",
       "      <td>22.200000</td>\n",
       "      <td>755.2</td>\n",
       "      <td>57.000000</td>\n",
       "      <td>4.000000</td>\n",
       "      <td>27.000000</td>\n",
       "      <td>13.200000</td>\n",
       "      <td>34.118851</td>\n",
       "      <td>34.118851</td>\n",
       "    </tr>\n",
       "  </tbody>\n",
       "</table>\n",
       "<p>3 rows × 29 columns</p>\n",
       "</div>"
      ],
      "text/plain": [
       "                     date  Appliances  lights    T1       RH_1         T2  \\\n",
       "19732 2016-05-27 17:40:00         270      10  25.5  46.596667  25.628571   \n",
       "19733 2016-05-27 17:50:00         420      10  25.5  46.990000  25.414000   \n",
       "19734 2016-05-27 18:00:00         430      10  25.5  46.600000  25.264286   \n",
       "\n",
       "            RH_2         T3       RH_3    T4  ...    T9     RH_9      T_out  \\\n",
       "19732  42.768571  27.050000  41.690000  24.7  ...  23.2  46.7900  22.466667   \n",
       "19733  43.036000  26.890000  41.290000  24.7  ...  23.2  46.8175  22.333333   \n",
       "19734  42.971429  26.823333  41.156667  24.7  ...  23.2  46.8450  22.200000   \n",
       "\n",
       "       Press_mm_hg     RH_out  Windspeed  Visibility  Tdewpoint        rv1  \\\n",
       "19732        755.2  56.333333   3.666667   25.333333  13.266667  29.199117   \n",
       "19733        755.2  56.666667   3.833333   26.166667  13.233333   6.322784   \n",
       "19734        755.2  57.000000   4.000000   27.000000  13.200000  34.118851   \n",
       "\n",
       "             rv2  \n",
       "19732  29.199117  \n",
       "19733   6.322784  \n",
       "19734  34.118851  \n",
       "\n",
       "[3 rows x 29 columns]"
      ]
     },
     "execution_count": 35,
     "metadata": {},
     "output_type": "execute_result"
    }
   ],
   "source": [
    "df.tail(3)"
   ]
  },
  {
   "cell_type": "code",
   "execution_count": 34,
   "metadata": {},
   "outputs": [
    {
     "data": {
      "text/plain": [
       "(19735, 29)"
      ]
     },
     "execution_count": 34,
     "metadata": {},
     "output_type": "execute_result"
    }
   ],
   "source": [
    "df.shape"
   ]
  },
  {
   "cell_type": "code",
   "execution_count": 4,
   "metadata": {},
   "outputs": [
    {
     "name": "stdout",
     "output_type": "stream",
     "text": [
      "<class 'pandas.core.frame.DataFrame'>\n",
      "RangeIndex: 19735 entries, 0 to 19734\n",
      "Data columns (total 29 columns):\n",
      " #   Column       Non-Null Count  Dtype  \n",
      "---  ------       --------------  -----  \n",
      " 0   date         19735 non-null  object \n",
      " 1   Appliances   19735 non-null  int64  \n",
      " 2   lights       19735 non-null  int64  \n",
      " 3   T1           19735 non-null  float64\n",
      " 4   RH_1         19735 non-null  float64\n",
      " 5   T2           19735 non-null  float64\n",
      " 6   RH_2         19735 non-null  float64\n",
      " 7   T3           19735 non-null  float64\n",
      " 8   RH_3         19735 non-null  float64\n",
      " 9   T4           19735 non-null  float64\n",
      " 10  RH_4         19735 non-null  float64\n",
      " 11  T5           19735 non-null  float64\n",
      " 12  RH_5         19735 non-null  float64\n",
      " 13  T6           19735 non-null  float64\n",
      " 14  RH_6         19735 non-null  float64\n",
      " 15  T7           19735 non-null  float64\n",
      " 16  RH_7         19735 non-null  float64\n",
      " 17  T8           19735 non-null  float64\n",
      " 18  RH_8         19735 non-null  float64\n",
      " 19  T9           19735 non-null  float64\n",
      " 20  RH_9         19735 non-null  float64\n",
      " 21  T_out        19735 non-null  float64\n",
      " 22  Press_mm_hg  19735 non-null  float64\n",
      " 23  RH_out       19735 non-null  float64\n",
      " 24  Windspeed    19735 non-null  float64\n",
      " 25  Visibility   19735 non-null  float64\n",
      " 26  Tdewpoint    19735 non-null  float64\n",
      " 27  rv1          19735 non-null  float64\n",
      " 28  rv2          19735 non-null  float64\n",
      "dtypes: float64(26), int64(2), object(1)\n",
      "memory usage: 4.4+ MB\n"
     ]
    }
   ],
   "source": [
    "df.info()"
   ]
  },
  {
   "cell_type": "code",
   "execution_count": 10,
   "metadata": {},
   "outputs": [],
   "source": [
    "#convert date to timestamp format\n",
    "df['date'] = pd.to_datetime(df['date'])"
   ]
  },
  {
   "cell_type": "code",
   "execution_count": 12,
   "metadata": {},
   "outputs": [
    {
     "data": {
      "text/html": [
       "<div>\n",
       "<style scoped>\n",
       "    .dataframe tbody tr th:only-of-type {\n",
       "        vertical-align: middle;\n",
       "    }\n",
       "\n",
       "    .dataframe tbody tr th {\n",
       "        vertical-align: top;\n",
       "    }\n",
       "\n",
       "    .dataframe thead th {\n",
       "        text-align: right;\n",
       "    }\n",
       "</style>\n",
       "<table border=\"1\" class=\"dataframe\">\n",
       "  <thead>\n",
       "    <tr style=\"text-align: right;\">\n",
       "      <th></th>\n",
       "      <th>date</th>\n",
       "      <th>T_out</th>\n",
       "      <th>RH_2</th>\n",
       "      <th>Appliances</th>\n",
       "      <th>lights</th>\n",
       "    </tr>\n",
       "  </thead>\n",
       "  <tbody>\n",
       "    <tr>\n",
       "      <th>0</th>\n",
       "      <td>2016-01-11 17:00:00</td>\n",
       "      <td>6.600000</td>\n",
       "      <td>44.790000</td>\n",
       "      <td>60</td>\n",
       "      <td>30</td>\n",
       "    </tr>\n",
       "    <tr>\n",
       "      <th>1</th>\n",
       "      <td>2016-01-11 17:10:00</td>\n",
       "      <td>6.483333</td>\n",
       "      <td>44.722500</td>\n",
       "      <td>60</td>\n",
       "      <td>30</td>\n",
       "    </tr>\n",
       "    <tr>\n",
       "      <th>2</th>\n",
       "      <td>2016-01-11 17:20:00</td>\n",
       "      <td>6.366667</td>\n",
       "      <td>44.626667</td>\n",
       "      <td>50</td>\n",
       "      <td>30</td>\n",
       "    </tr>\n",
       "  </tbody>\n",
       "</table>\n",
       "</div>"
      ],
      "text/plain": [
       "                 date     T_out       RH_2  Appliances  lights\n",
       "0 2016-01-11 17:00:00  6.600000  44.790000          60      30\n",
       "1 2016-01-11 17:10:00  6.483333  44.722500          60      30\n",
       "2 2016-01-11 17:20:00  6.366667  44.626667          50      30"
      ]
     },
     "execution_count": 12,
     "metadata": {},
     "output_type": "execute_result"
    }
   ],
   "source": [
    "df[['date','T_out', 'RH_2', 'Appliances','lights']].head(3)"
   ]
  },
  {
   "cell_type": "code",
   "execution_count": 13,
   "metadata": {},
   "outputs": [
    {
     "data": {
      "text/plain": [
       "<Axes: xlabel='date'>"
      ]
     },
     "execution_count": 13,
     "metadata": {},
     "output_type": "execute_result"
    },
    {
     "data": {
      "image/png": "[encoded data removed]",
      "text/plain": [
       "<Figure size 1000x800 with 1 Axes>"
      ]
     },
     "metadata": {},
     "output_type": "display_data"
    }
   ],
   "source": [
    "df.set_index('date')['T_out'].plot()"
   ]
  },
  {
   "cell_type": "code",
   "execution_count": 14,
   "metadata": {},
   "outputs": [
    {
     "data": {
      "text/plain": [
       "array([<Axes: xlabel='date'>, <Axes: xlabel='date'>,\n",
       "       <Axes: xlabel='date'>, <Axes: xlabel='date'>], dtype=object)"
      ]
     },
     "execution_count": 14,
     "metadata": {},
     "output_type": "execute_result"
    },
    {
     "data": {
      "image/png": "[encoded data removed]",
      "text/plain": [
       "<Figure size 1000x800 with 4 Axes>"
      ]
     },
     "metadata": {},
     "output_type": "display_data"
    }
   ],
   "source": [
    "df.set_index('date')[['T_out', 'RH_2', 'Appliances','lights']].plot(subplots=True)"
   ]
  },
  {
   "cell_type": "code",
   "execution_count": 15,
   "metadata": {},
   "outputs": [
    {
     "data": {
      "text/plain": [
       "date           19735\n",
       "Appliances     19735\n",
       "lights         19735\n",
       "T1             19735\n",
       "RH_1           19735\n",
       "T2             19735\n",
       "RH_2           19735\n",
       "T3             19735\n",
       "RH_3           19735\n",
       "T4             19735\n",
       "RH_4           19735\n",
       "T5             19735\n",
       "RH_5           19735\n",
       "T6             19735\n",
       "RH_6           19735\n",
       "T7             19735\n",
       "RH_7           19735\n",
       "T8             19735\n",
       "RH_8           19735\n",
       "T9             19735\n",
       "RH_9           19735\n",
       "T_out          19735\n",
       "Press_mm_hg    19735\n",
       "RH_out         19735\n",
       "Windspeed      19735\n",
       "Visibility     19735\n",
       "Tdewpoint      19735\n",
       "rv1            19735\n",
       "rv2            19735\n",
       "dtype: int64"
      ]
     },
     "execution_count": 15,
     "metadata": {},
     "output_type": "execute_result"
    }
   ],
   "source": [
    "df.count()"
   ]
  },
  {
   "cell_type": "markdown",
   "metadata": {},
   "source": [
    "#### Data preparation for predicting single output"
   ]
  },
  {
   "cell_type": "code",
   "execution_count": 20,
   "metadata": {},
   "outputs": [],
   "source": [
    "#convert features and target to list to use it in timeseries generator\n",
    "features=df[['Appliances','T_out', 'RH_2']].to_numpy().tolist() #as there are more than one columns, first convert to numpy and then to list\n",
    "target=df['Appliances'].tolist()\n",
    "     "
   ]
  },
  {
   "cell_type": "code",
   "execution_count": 23,
   "metadata": {},
   "outputs": [
    {
     "data": {
      "text/plain": [
       "[[60.0, 6.6, 44.79],\n",
       " [60.0, 6.48333333333333, 44.7225],\n",
       " [50.0, 6.36666666666667, 44.6266666666667],\n",
       " [50.0, 6.25, 44.59],\n",
       " [60.0, 6.133333333333329, 44.53],\n",
       " [50.0, 6.01666666666667, 44.5],\n",
       " [60.0, 5.9, 44.5],\n",
       " [60.0, 5.91666666666667, 44.5],\n",
       " [60.0, 5.93333333333333, 44.433333333333294],\n",
       " [70.0, 5.95, 44.4]]"
      ]
     },
     "execution_count": 23,
     "metadata": {},
     "output_type": "execute_result"
    }
   ],
   "source": [
    "#features = [[round(val, 3) for val in sublist] for sublist in features]\n",
    "features[:10]"
   ]
  },
  {
   "cell_type": "code",
   "execution_count": 24,
   "metadata": {},
   "outputs": [
    {
     "data": {
      "text/plain": [
       "[60, 60, 50, 50, 60, 50, 60, 60, 60, 70]"
      ]
     },
     "execution_count": 24,
     "metadata": {},
     "output_type": "execute_result"
    }
   ],
   "source": [
    "target[:10]"
   ]
  },
  {
   "cell_type": "markdown",
   "metadata": {},
   "source": [
    "If you wanna predict tomorrows output (target), data till today becomes the input(feature)"
   ]
  },
  {
   "cell_type": "code",
   "execution_count": 25,
   "metadata": {},
   "outputs": [],
   "source": [
    "# generating sequences of data using timeseries generator\n",
    "\n",
    "ts_generator = TimeseriesGenerator(features,target,length = 6,sampling_rate=1,batch_size=1)"
   ]
  },
  {
   "cell_type": "code",
   "execution_count": 27,
   "metadata": {},
   "outputs": [
    {
     "data": {
      "text/plain": [
       "(array([[[60.        ,  6.6       , 44.79      ],\n",
       "         [60.        ,  6.48333333, 44.7225    ],\n",
       "         [50.        ,  6.36666667, 44.62666667],\n",
       "         [50.        ,  6.25      , 44.59      ],\n",
       "         [60.        ,  6.13333333, 44.53      ],\n",
       "         [50.        ,  6.01666667, 44.5       ]]]),\n",
       " array([60]))"
      ]
     },
     "execution_count": 27,
     "metadata": {},
     "output_type": "execute_result"
    }
   ],
   "source": [
    "ts_generator[0] #outputs batches with size 6 (ie first 6 data will be feature and the 7th data will be target)"
   ]
  },
  {
   "cell_type": "code",
   "execution_count": 28,
   "metadata": {},
   "outputs": [
    {
     "data": {
      "text/plain": [
       "(array([[[60.        ,  6.48333333, 44.7225    ],\n",
       "         [50.        ,  6.36666667, 44.62666667],\n",
       "         [50.        ,  6.25      , 44.59      ],\n",
       "         [60.        ,  6.13333333, 44.53      ],\n",
       "         [50.        ,  6.01666667, 44.5       ],\n",
       "         [60.        ,  5.9       , 44.5       ]]]),\n",
       " array([60]))"
      ]
     },
     "execution_count": 28,
     "metadata": {},
     "output_type": "execute_result"
    }
   ],
   "source": [
    "ts_generator[1]"
   ]
  },
  {
   "cell_type": "code",
   "execution_count": 29,
   "metadata": {},
   "outputs": [
    {
     "data": {
      "text/plain": [
       "(array([[[50.        ,  6.36666667, 44.62666667],\n",
       "         [50.        ,  6.25      , 44.59      ],\n",
       "         [60.        ,  6.13333333, 44.53      ],\n",
       "         [50.        ,  6.01666667, 44.5       ],\n",
       "         [60.        ,  5.9       , 44.5       ],\n",
       "         [60.        ,  5.91666667, 44.5       ]]]),\n",
       " array([60]))"
      ]
     },
     "execution_count": 29,
     "metadata": {},
     "output_type": "execute_result"
    }
   ],
   "source": [
    "ts_generator[2]"
   ]
  },
  {
   "cell_type": "code",
   "execution_count": 30,
   "metadata": {},
   "outputs": [
    {
     "data": {
      "text/plain": [
       "(array([[[50.        ,  6.25      , 44.59      ],\n",
       "         [60.        ,  6.13333333, 44.53      ],\n",
       "         [50.        ,  6.01666667, 44.5       ],\n",
       "         [60.        ,  5.9       , 44.5       ],\n",
       "         [60.        ,  5.91666667, 44.5       ],\n",
       "         [60.        ,  5.93333333, 44.43333333]]]),\n",
       " array([70]))"
      ]
     },
     "execution_count": 30,
     "metadata": {},
     "output_type": "execute_result"
    }
   ],
   "source": [
    "ts_generator[3]"
   ]
  },
  {
   "cell_type": "code",
   "execution_count": 32,
   "metadata": {},
   "outputs": [
    {
     "data": {
      "text/plain": [
       "19729"
      ]
     },
     "execution_count": 32,
     "metadata": {},
     "output_type": "execute_result"
    }
   ],
   "source": [
    "len(ts_generator) #as batch size = 1"
   ]
  },
  {
   "cell_type": "markdown",
   "metadata": {},
   "source": [
    "Input - 1,2,3,4,5,6,7,8,9\n",
    "\n",
    "Sliding window (window size 3, stride 1) - 1,2,3    2,3,4   4,5,6\n",
    "\n",
    "Sliding window (window size 3, stride 2) - 1,2,3    3,4,5   7,8,9\n",
    "\n",
    "Tumbling window (Window size 3)   - 1,2,3   4,5,6   7,8,9    # no overlapping\n"
   ]
  },
  {
   "cell_type": "code",
   "execution_count": 36,
   "metadata": {},
   "outputs": [],
   "source": [
    "#time series generator with sliding window with stride 2\n",
    "ts_generator = TimeseriesGenerator(features, target, length=6, sampling_rate=1, batch_size=1, stride=2)"
   ]
  },
  {
   "cell_type": "code",
   "execution_count": 37,
   "metadata": {},
   "outputs": [
    {
     "data": {
      "text/plain": [
       "9865"
      ]
     },
     "execution_count": 37,
     "metadata": {},
     "output_type": "execute_result"
    }
   ],
   "source": [
    "len(ts_generator)"
   ]
  },
  {
   "cell_type": "code",
   "execution_count": 38,
   "metadata": {},
   "outputs": [
    {
     "data": {
      "text/plain": [
       "(array([[[50.        ,  6.36666667, 44.62666667],\n",
       "         [50.        ,  6.25      , 44.59      ],\n",
       "         [60.        ,  6.13333333, 44.53      ],\n",
       "         [50.        ,  6.01666667, 44.5       ],\n",
       "         [60.        ,  5.9       , 44.5       ],\n",
       "         [60.        ,  5.91666667, 44.5       ]]]),\n",
       " array([60]))"
      ]
     },
     "execution_count": 38,
     "metadata": {},
     "output_type": "execute_result"
    }
   ],
   "source": [
    "ts_generator[1]"
   ]
  },
  {
   "cell_type": "code",
   "execution_count": 39,
   "metadata": {},
   "outputs": [
    {
     "data": {
      "text/plain": [
       "(array([[[60.        ,  6.13333333, 44.53      ],\n",
       "         [50.        ,  6.01666667, 44.5       ],\n",
       "         [60.        ,  5.9       , 44.5       ],\n",
       "         [60.        ,  5.91666667, 44.5       ],\n",
       "         [60.        ,  5.93333333, 44.43333333],\n",
       "         [70.        ,  5.95      , 44.4       ]]]),\n",
       " array([230]))"
      ]
     },
     "execution_count": 39,
     "metadata": {},
     "output_type": "execute_result"
    }
   ],
   "source": [
    "ts_generator[2]"
   ]
  },
  {
   "cell_type": "markdown",
   "metadata": {},
   "source": [
    "#### Data preparation for predicting multiple outputs"
   ]
  },
  {
   "cell_type": "code",
   "execution_count": 42,
   "metadata": {},
   "outputs": [
    {
     "data": {
      "text/html": [
       "<div>\n",
       "<style scoped>\n",
       "    .dataframe tbody tr th:only-of-type {\n",
       "        vertical-align: middle;\n",
       "    }\n",
       "\n",
       "    .dataframe tbody tr th {\n",
       "        vertical-align: top;\n",
       "    }\n",
       "\n",
       "    .dataframe thead th {\n",
       "        text-align: right;\n",
       "    }\n",
       "</style>\n",
       "<table border=\"1\" class=\"dataframe\">\n",
       "  <thead>\n",
       "    <tr style=\"text-align: right;\">\n",
       "      <th></th>\n",
       "      <th>Appliances</th>\n",
       "      <th>Appliances</th>\n",
       "      <th>Appliances</th>\n",
       "    </tr>\n",
       "  </thead>\n",
       "  <tbody>\n",
       "    <tr>\n",
       "      <th>0</th>\n",
       "      <td>60</td>\n",
       "      <td>60.0</td>\n",
       "      <td>50.0</td>\n",
       "    </tr>\n",
       "    <tr>\n",
       "      <th>1</th>\n",
       "      <td>60</td>\n",
       "      <td>50.0</td>\n",
       "      <td>50.0</td>\n",
       "    </tr>\n",
       "    <tr>\n",
       "      <th>2</th>\n",
       "      <td>50</td>\n",
       "      <td>50.0</td>\n",
       "      <td>60.0</td>\n",
       "    </tr>\n",
       "    <tr>\n",
       "      <th>3</th>\n",
       "      <td>50</td>\n",
       "      <td>60.0</td>\n",
       "      <td>50.0</td>\n",
       "    </tr>\n",
       "    <tr>\n",
       "      <th>4</th>\n",
       "      <td>60</td>\n",
       "      <td>50.0</td>\n",
       "      <td>60.0</td>\n",
       "    </tr>\n",
       "    <tr>\n",
       "      <th>...</th>\n",
       "      <td>...</td>\n",
       "      <td>...</td>\n",
       "      <td>...</td>\n",
       "    </tr>\n",
       "    <tr>\n",
       "      <th>19730</th>\n",
       "      <td>100</td>\n",
       "      <td>90.0</td>\n",
       "      <td>270.0</td>\n",
       "    </tr>\n",
       "    <tr>\n",
       "      <th>19731</th>\n",
       "      <td>90</td>\n",
       "      <td>270.0</td>\n",
       "      <td>420.0</td>\n",
       "    </tr>\n",
       "    <tr>\n",
       "      <th>19732</th>\n",
       "      <td>270</td>\n",
       "      <td>420.0</td>\n",
       "      <td>430.0</td>\n",
       "    </tr>\n",
       "    <tr>\n",
       "      <th>19733</th>\n",
       "      <td>420</td>\n",
       "      <td>430.0</td>\n",
       "      <td>NaN</td>\n",
       "    </tr>\n",
       "    <tr>\n",
       "      <th>19734</th>\n",
       "      <td>430</td>\n",
       "      <td>NaN</td>\n",
       "      <td>NaN</td>\n",
       "    </tr>\n",
       "  </tbody>\n",
       "</table>\n",
       "<p>19735 rows × 3 columns</p>\n",
       "</div>"
      ],
      "text/plain": [
       "       Appliances  Appliances  Appliances\n",
       "0              60        60.0        50.0\n",
       "1              60        50.0        50.0\n",
       "2              50        50.0        60.0\n",
       "3              50        60.0        50.0\n",
       "4              60        50.0        60.0\n",
       "...           ...         ...         ...\n",
       "19730         100        90.0       270.0\n",
       "19731          90       270.0       420.0\n",
       "19732         270       420.0       430.0\n",
       "19733         420       430.0         NaN\n",
       "19734         430         NaN         NaN\n",
       "\n",
       "[19735 rows x 3 columns]"
      ]
     },
     "execution_count": 42,
     "metadata": {},
     "output_type": "execute_result"
    }
   ],
   "source": [
    "#making target variable\n",
    "\n",
    "pd.concat([df['Appliances'],df['Appliances'].shift(-1),df['Appliances'].shift(-2)],axis=1)\n"
   ]
  },
  {
   "cell_type": "code",
   "execution_count": 47,
   "metadata": {},
   "outputs": [],
   "source": [
    "multi_target = pd.concat([df['Appliances'],df['Appliances'].shift(-1),df['Appliances'].shift(-2)],axis=1).dropna().to_numpy().tolist()\n",
    "#dropna as the last two columns have na as a result of shifting"
   ]
  },
  {
   "cell_type": "code",
   "execution_count": 48,
   "metadata": {},
   "outputs": [
    {
     "data": {
      "text/plain": [
       "[[60.0, 60.0, 50.0],\n",
       " [60.0, 50.0, 50.0],\n",
       " [50.0, 50.0, 60.0],\n",
       " [50.0, 60.0, 50.0],\n",
       " [60.0, 50.0, 60.0]]"
      ]
     },
     "execution_count": 48,
     "metadata": {},
     "output_type": "execute_result"
    }
   ],
   "source": [
    "multi_target[0:5]"
   ]
  },
  {
   "cell_type": "code",
   "execution_count": 49,
   "metadata": {},
   "outputs": [
    {
     "data": {
      "text/plain": [
       "[[60.0, 6.6, 44.79],\n",
       " [60.0, 6.48333333333333, 44.7225],\n",
       " [50.0, 6.36666666666667, 44.6266666666667],\n",
       " [50.0, 6.25, 44.59],\n",
       " [60.0, 6.133333333333329, 44.53],\n",
       " [50.0, 6.01666666666667, 44.5],\n",
       " [60.0, 5.9, 44.5],\n",
       " [60.0, 5.91666666666667, 44.5],\n",
       " [60.0, 5.93333333333333, 44.433333333333294],\n",
       " [70.0, 5.95, 44.4],\n",
       " [230.0, 5.96666666666667, 44.4],\n",
       " [580.0, 5.98333333333333, 44.4],\n",
       " [430.0, 6.0, 44.4],\n",
       " [250.0, 6.0, 45.1],\n",
       " [100.0, 6.0, 45.83333333333329],\n",
       " [100.0, 6.0, 46.7566666666667],\n",
       " [90.0, 6.0, 47.223333333333294],\n",
       " [70.0, 6.0, 47.05666666666671],\n",
       " [80.0, 6.0, 46.33],\n",
       " [140.0, 6.0, 46.0266666666667],\n",
       " [120.0, 6.0, 45.7225],\n",
       " [190.0, 6.0, 45.53],\n",
       " [110.0, 6.0, 45.223333333333294],\n",
       " [110.0, 6.0, 44.963333333333296],\n",
       " [110.0, 6.0, 44.76],\n",
       " [110.0, 5.93333333333333, 44.76],\n",
       " [100.0, 5.86666666666667, 45.09],\n",
       " [100.0, 5.8, 45.1633333333333],\n",
       " [100.0, 5.73333333333333, 45.06],\n",
       " [100.0, 5.66666666666667, 44.933333333333294],\n",
       " [110.0, 5.6, 44.6333333333333],\n",
       " [400.0, 5.65, 44.36],\n",
       " [400.0, 5.7, 44.223333333333294],\n",
       " [390.0, 5.75, 43.963333333333296],\n",
       " [240.0, 5.8, 43.83333333333329],\n",
       " [60.0, 5.85, 43.7],\n",
       " [60.0, 5.9, 43.59],\n",
       " [60.0, 5.8, 43.59],\n",
       " [50.0, 5.7, 43.7],\n",
       " [70.0, 5.6, 43.76],\n",
       " [60.0, 5.5, 43.845],\n",
       " [40.0, 5.4, 43.79],\n",
       " [40.0, 5.3, 43.863333333333294],\n",
       " [30.0, 5.26666666666667, 44.0],\n",
       " [40.0, 5.23333333333333, 44.0],\n",
       " [50.0, 5.2, 44.03],\n",
       " [310.0, 5.16666666666667, 44.09],\n",
       " [380.0, 5.133333333333329, 44.1266666666667],\n",
       " [380.0, 5.1, 44.2],\n",
       " [370.0, 5.11666666666667, 44.2],\n",
       " [120.0, 5.133333333333329, 44.26],\n",
       " [50.0, 5.15, 44.29],\n",
       " [40.0, 5.16666666666667, 44.29],\n",
       " [50.0, 5.18333333333333, 44.4],\n",
       " [40.0, 5.2, 44.4666666666667],\n",
       " [50.0, 5.133333333333329, 44.53],\n",
       " [50.0, 5.06666666666667, 44.59],\n",
       " [50.0, 5.0, 44.433333333333294],\n",
       " [40.0, 4.93333333333333, 44.5],\n",
       " [40.0, 4.86666666666667, 44.5],\n",
       " [30.0, 4.8, 44.59],\n",
       " [20.0, 4.81666666666667, 44.53],\n",
       " [20.0, 4.8333333333333295, 44.53],\n",
       " [40.0, 4.85, 44.53],\n",
       " [50.0, 4.86666666666667, 44.59],\n",
       " [50.0, 4.883333333333329, 44.59],\n",
       " [40.0, 4.9, 44.7],\n",
       " [50.0, 4.91666666666667, 44.6266666666667],\n",
       " [40.0, 4.93333333333333, 44.59],\n",
       " [40.0, 4.95, 44.59],\n",
       " [40.0, 4.96666666666667, 44.7],\n",
       " [60.0, 4.98333333333333, 44.7],\n",
       " [50.0, 5.0, 44.79],\n",
       " [50.0, 4.98333333333333, 44.73],\n",
       " [40.0, 4.96666666666667, 44.73],\n",
       " [40.0, 4.95, 44.79],\n",
       " [40.0, 4.93333333333333, 44.79],\n",
       " [40.0, 4.91666666666667, 44.79],\n",
       " [50.0, 4.9, 44.9],\n",
       " [70.0, 4.93333333333333, 44.925],\n",
       " [40.0, 4.96666666666667, 45.0],\n",
       " [30.0, 5.0, 45.1266666666667],\n",
       " [20.0, 5.03333333333333, 45.2],\n",
       " [30.0, 5.06666666666667, 45.245],\n",
       " [40.0, 5.1, 45.363333333333294],\n",
       " [50.0, 5.1, 45.4],\n",
       " [60.0, 5.1, 45.3266666666667],\n",
       " [60.0, 5.1, 45.195],\n",
       " [70.0, 5.1, 45.03],\n",
       " [60.0, 5.1, 45.0],\n",
       " [140.0, 5.1, 45.0],\n",
       " [110.0, 5.05, 45.06],\n",
       " [90.0, 5.0, 45.0444444444444],\n",
       " [60.0, 4.95, 45.2],\n",
       " [60.0, 4.9, 45.1266666666667],\n",
       " [60.0, 4.85, 45.09],\n",
       " [50.0, 4.8, 45.03],\n",
       " [60.0, 4.883333333333329, 44.9666666666667],\n",
       " [50.0, 4.96666666666667, 44.8266666666667],\n",
       " [30.0, 5.05, 44.645],\n",
       " [40.0, 5.133333333333329, 44.56],\n",
       " [30.0, 5.21666666666667, 44.433333333333294],\n",
       " [260.0, 5.3, 44.29],\n",
       " [500.0, 5.48333333333333, 44.23],\n",
       " [450.0, 5.66666666666667, 44.23],\n",
       " [50.0, 5.85, 44.363333333333294],\n",
       " [60.0, 6.03333333333333, 44.5666666666667],\n",
       " [60.0, 6.21666666666667, 44.5666666666667],\n",
       " [50.0, 6.4, 44.5],\n",
       " [50.0, 6.5, 44.5],\n",
       " [50.0, 6.6, 44.4666666666667],\n",
       " [60.0, 6.7, 44.4],\n",
       " [60.0, 6.8, 44.29],\n",
       " [60.0, 6.9, 44.245],\n",
       " [60.0, 7.0, 44.2],\n",
       " [190.0, 7.0833333333333295, 44.1266666666667],\n",
       " [220.0, 7.16666666666667, 43.9],\n",
       " [170.0, 7.25, 43.9],\n",
       " [390.0, 7.3333333333333295, 43.856],\n",
       " [90.0, 7.416666666666669, 43.7],\n",
       " [60.0, 7.5, 43.76],\n",
       " [290.0, 7.416666666666669, 43.8175],\n",
       " [130.0, 7.3333333333333295, 43.838125],\n",
       " [140.0, 7.25, 43.745],\n",
       " [240.0, 7.16666666666667, 43.5955555555556],\n",
       " [50.0, 7.0833333333333295, 43.488888888888894],\n",
       " [60.0, 7.0, 43.425],\n",
       " [60.0, 6.98333333333333, 43.334],\n",
       " [60.0, 6.96666666666667, 43.29],\n",
       " [370.0, 6.95, 43.29],\n",
       " [200.0, 6.93333333333333, 43.23],\n",
       " [70.0, 6.91666666666667, 43.2],\n",
       " [50.0, 6.9, 43.1266666666667],\n",
       " [40.0, 6.8, 43.09],\n",
       " [40.0, 6.7, 43.09],\n",
       " [30.0, 6.6, 43.06],\n",
       " [30.0, 6.5, 43.0],\n",
       " [30.0, 6.4, 42.863333333333294],\n",
       " [30.0, 6.3, 42.715],\n",
       " [40.0, 6.3333333333333295, 42.65],\n",
       " [50.0, 6.36666666666667, 42.59],\n",
       " [40.0, 6.4, 42.59],\n",
       " [40.0, 6.43333333333333, 42.53375],\n",
       " [40.0, 6.46666666666667, 42.43],\n",
       " [60.0, 6.5, 42.4181818181818],\n",
       " [60.0, 6.31666666666667, 42.433333333333294],\n",
       " [210.0, 6.133333333333329, 42.4718181818182],\n",
       " [380.0, 5.95, 42.58],\n",
       " [370.0, 5.76666666666667, 42.56],\n",
       " [230.0, 5.5833333333333295, 42.7966666666667],\n",
       " [80.0, 5.4, 43.4],\n",
       " [90.0, 5.3, 43.4666666666667],\n",
       " [70.0, 5.2, 43.363333333333294],\n",
       " [40.0, 5.1, 43.29],\n",
       " [40.0, 5.0, 43.29],\n",
       " [30.0, 4.9, 43.245],\n",
       " [50.0, 4.8, 43.095],\n",
       " [50.0, 4.75, 42.92],\n",
       " [60.0, 4.7, 42.9],\n",
       " [50.0, 4.65, 42.76],\n",
       " [60.0, 4.6, 42.7],\n",
       " [60.0, 4.55, 42.6633333333333],\n",
       " [60.0, 4.5, 42.53],\n",
       " [50.0, 4.53333333333333, 42.5],\n",
       " [50.0, 4.56666666666667, 42.433333333333294],\n",
       " [50.0, 4.6, 42.45],\n",
       " [50.0, 4.633333333333329, 42.4666666666667],\n",
       " [50.0, 4.66666666666667, 42.4],\n",
       " [60.0, 4.7, 42.3266666666667],\n",
       " [60.0, 4.8, 42.3266666666667],\n",
       " [40.0, 4.9, 42.363333333333294],\n",
       " [30.0, 5.0, 42.29],\n",
       " [30.0, 5.1, 42.24],\n",
       " [30.0, 5.2, 42.0563636363636],\n",
       " [40.0, 5.3, 41.8866666666667],\n",
       " [50.0, 5.3333333333333295, 41.988333333333294],\n",
       " [50.0, 5.36666666666667, 42.064285714285695],\n",
       " [50.0, 5.4, 42.2525],\n",
       " [40.0, 5.43333333333333, 42.410625],\n",
       " [50.0, 5.46666666666667, 42.5],\n",
       " [40.0, 5.5, 42.645],\n",
       " [40.0, 5.5833333333333295, 42.7],\n",
       " [40.0, 5.66666666666667, 42.75625],\n",
       " [40.0, 5.75, 42.86166666666671],\n",
       " [50.0, 5.8333333333333295, 43.0],\n",
       " [50.0, 5.91666666666667, 43.045],\n",
       " [50.0, 6.0, 43.09],\n",
       " [30.0, 5.883333333333329, 43.2],\n",
       " [20.0, 5.76666666666667, 43.26],\n",
       " [30.0, 5.65, 43.31],\n",
       " [20.0, 5.53333333333333, 43.3977777777778],\n",
       " [40.0, 5.41666666666667, 43.4285714285714],\n",
       " [50.0, 5.3, 43.46],\n",
       " [60.0, 5.3, 43.5],\n",
       " [50.0, 5.3, 43.56],\n",
       " [40.0, 5.3, 43.59],\n",
       " [40.0, 5.3, 43.59],\n",
       " [50.0, 5.3, 43.635833333333295],\n",
       " [40.0, 5.3, 43.68625],\n",
       " [40.0, 5.3333333333333295, 43.7],\n",
       " [50.0, 5.36666666666667, 43.775],\n",
       " [50.0, 5.4, 43.845],\n",
       " [50.0, 5.43333333333333, 43.9],\n",
       " [40.0, 5.46666666666667, 43.8619230769231],\n",
       " [30.0, 5.5, 43.79],\n",
       " [20.0, 5.48333333333333, 43.808333333333294],\n",
       " [20.0, 5.46666666666667, 43.7961111111111],\n",
       " [20.0, 5.45, 43.79],\n",
       " [50.0, 5.43333333333333, 43.79],\n",
       " [50.0, 5.41666666666667, 43.84],\n",
       " [50.0, 5.4, 43.9],\n",
       " [40.0, 5.36666666666667, 43.9],\n",
       " [40.0, 5.3333333333333295, 43.91666666666671],\n",
       " [50.0, 5.3, 43.9055555555556],\n",
       " [40.0, 5.26666666666667, 43.9],\n",
       " [50.0, 5.23333333333333, 43.9388888888889],\n",
       " [50.0, 5.2, 43.98125],\n",
       " [50.0, 5.16666666666667, 44.0],\n",
       " [40.0, 5.133333333333329, 44.0],\n",
       " [40.0, 5.1, 44.0],\n",
       " [50.0, 5.06666666666667, 44.0],\n",
       " [20.0, 5.03333333333333, 44.0],\n",
       " [20.0, 5.0, 44.0],\n",
       " [50.0, 5.01666666666667, 44.0],\n",
       " [30.0, 5.03333333333333, 44.0666666666667],\n",
       " [50.0, 5.05, 44.29375],\n",
       " [50.0, 5.06666666666667, 44.4163636363636],\n",
       " [200.0, 5.0833333333333295, 44.5409090909091],\n",
       " [110.0, 5.1, 44.59],\n",
       " [80.0, 5.0833333333333295, 44.1966666666667],\n",
       " [50.0, 5.06666666666667, 43.9666666666667],\n",
       " [50.0, 5.05, 43.845],\n",
       " [50.0, 5.03333333333333, 43.8175],\n",
       " [40.0, 5.01666666666667, 43.79],\n",
       " [40.0, 5.0, 43.645],\n",
       " [30.0, 5.0, 43.7],\n",
       " [180.0, 5.0, 43.45],\n",
       " [350.0, 5.0, 43.363333333333294],\n",
       " [350.0, 5.0, 43.363333333333294],\n",
       " [300.0, 5.0, 43.4],\n",
       " [400.0, 5.0, 43.4666666666667],\n",
       " [390.0, 5.0, 43.59],\n",
       " [290.0, 5.0, 43.6633333333333],\n",
       " [60.0, 5.0, 43.5],\n",
       " [70.0, 5.0, 43.5],\n",
       " [110.0, 5.0, 43.43],\n",
       " [90.0, 5.0, 43.23],\n",
       " [60.0, 5.0833333333333295, 43.1566666666667],\n",
       " [70.0, 5.16666666666667, 43.43],\n",
       " [80.0, 5.25, 43.93],\n",
       " [60.0, 5.3333333333333295, 43.863333333333294],\n",
       " [40.0, 5.41666666666667, 44.0],\n",
       " [30.0, 5.5, 44.0],\n",
       " [70.0, 5.5833333333333295, 43.145],\n",
       " [50.0, 5.66666666666667, 43.06],\n",
       " [80.0, 5.75, 43.0],\n",
       " [80.0, 5.8333333333333295, 43.06],\n",
       " [50.0, 5.91666666666667, 42.933333333333294],\n",
       " [40.0, 6.0, 42.83333333333329],\n",
       " [50.0, 5.91666666666667, 42.16666666666671],\n",
       " [40.0, 5.8333333333333295, 41.79],\n",
       " [40.0, 5.75, 41.73],\n",
       " [50.0, 5.66666666666667, 41.6633333333333],\n",
       " [30.0, 5.5833333333333295, 41.53],\n",
       " [30.0, 5.5, 41.363333333333294],\n",
       " [20.0, 5.73333333333333, 41.29],\n",
       " [20.0, 5.96666666666667, 41.1633333333333],\n",
       " [50.0, 6.2, 41.03],\n",
       " [40.0, 6.43333333333333, 40.9],\n",
       " [50.0, 6.66666666666667, 40.8266666666667],\n",
       " [40.0, 6.9, 40.7],\n",
       " [60.0, 6.8, 40.6266666666667],\n",
       " [40.0, 6.7, 40.495],\n",
       " [40.0, 6.6, 40.4],\n",
       " [50.0, 6.5, 40.3266666666667],\n",
       " [40.0, 6.4, 40.2],\n",
       " [40.0, 6.3, 40.1266666666667],\n",
       " [30.0, 6.31666666666667, 40.06],\n",
       " [30.0, 6.3333333333333295, 40.0],\n",
       " [30.0, 6.35, 39.9],\n",
       " [40.0, 6.36666666666667, 39.8266666666667],\n",
       " [80.0, 6.383333333333329, 39.56],\n",
       " [70.0, 6.4, 39.5],\n",
       " [80.0, 6.16666666666667, 39.6266666666667],\n",
       " [70.0, 5.93333333333333, 39.7],\n",
       " [80.0, 5.7, 39.7],\n",
       " [80.0, 5.46666666666667, 39.76],\n",
       " [100.0, 5.23333333333333, 39.79],\n",
       " [90.0, 5.0, 39.73],\n",
       " [100.0, 4.78333333333333, 39.76],\n",
       " [90.0, 4.56666666666667, 39.7],\n",
       " [110.0, 4.35, 39.7],\n",
       " [90.0, 4.133333333333329, 39.7],\n",
       " [100.0, 3.9166666666666705, 39.76],\n",
       " [100.0, 3.7, 39.8266666666667],\n",
       " [110.0, 3.53333333333333, 39.9],\n",
       " [100.0, 3.36666666666667, 39.9],\n",
       " [90.0, 3.2, 39.9666666666667],\n",
       " [90.0, 3.03333333333333, 40.0],\n",
       " [180.0, 2.86666666666667, 40.0],\n",
       " [140.0, 2.7, 40.09],\n",
       " [100.0, 2.78333333333333, 40.09],\n",
       " [110.0, 2.86666666666667, 40.1566666666667],\n",
       " [340.0, 2.95, 40.23],\n",
       " [380.0, 3.03333333333333, 40.4],\n",
       " [210.0, 3.11666666666667, 40.4],\n",
       " [150.0, 3.2, 40.4],\n",
       " [330.0, 3.16666666666667, 40.4],\n",
       " [420.0, 3.13333333333333, 40.5],\n",
       " [330.0, 3.1, 40.5],\n",
       " [130.0, 3.06666666666667, 40.7],\n",
       " [130.0, 3.03333333333333, 40.8266666666667],\n",
       " [110.0, 3.0, 40.9],\n",
       " [250.0, 2.95, 40.9],\n",
       " [520.0, 2.9, 40.9],\n",
       " [360.0, 2.85, 40.9666666666667],\n",
       " [330.0, 2.8, 40.8266666666667],\n",
       " [310.0, 2.75, 40.79],\n",
       " [270.0, 2.7, 40.73],\n",
       " [230.0, 2.78333333333333, 40.6333333333333],\n",
       " [170.0, 2.86666666666667, 40.56],\n",
       " [60.0, 2.95, 40.6566666666667],\n",
       " [30.0, 3.03333333333333, 40.93],\n",
       " [30.0, 3.11666666666667, 41.0666666666667],\n",
       " [30.0, 3.2, 41.2],\n",
       " [40.0, 3.13333333333333, 41.29],\n",
       " [50.0, 3.06666666666667, 41.23],\n",
       " [50.0, 3.0, 41.29],\n",
       " [40.0, 2.93333333333333, 41.29],\n",
       " [40.0, 2.86666666666667, 41.4],\n",
       " [50.0, 2.8, 41.4],\n",
       " [50.0, 2.81666666666667, 41.3266666666667],\n",
       " [40.0, 2.8333333333333295, 41.29],\n",
       " [60.0, 2.85, 41.29],\n",
       " [40.0, 2.86666666666667, 41.29],\n",
       " [40.0, 2.88333333333333, 41.29],\n",
       " [50.0, 2.9, 41.29],\n",
       " [40.0, 2.88333333333333, 41.29],\n",
       " [30.0, 2.86666666666667, 41.26],\n",
       " [30.0, 2.85, 41.2],\n",
       " [30.0, 2.8333333333333295, 41.29],\n",
       " [40.0, 2.81666666666667, 41.29],\n",
       " [40.0, 2.8, 41.29],\n",
       " [50.0, 2.86666666666667, 41.29],\n",
       " [40.0, 2.93333333333333, 41.4],\n",
       " [40.0, 3.0, 41.4],\n",
       " [40.0, 3.06666666666667, 41.29],\n",
       " [50.0, 3.13333333333333, 41.363333333333294],\n",
       " [50.0, 3.2, 41.4],\n",
       " [50.0, 3.2333333333333294, 41.425],\n",
       " [40.0, 3.2666666666666706, 41.5],\n",
       " [50.0, 3.3, 41.5],\n",
       " [40.0, 3.3333333333333295, 41.5],\n",
       " [40.0, 3.36666666666667, 41.59],\n",
       " [20.0, 3.4, 41.53],\n",
       " [30.0, 3.38333333333333, 41.59],\n",
       " [30.0, 3.36666666666667, 41.59],\n",
       " [40.0, 3.35, 41.5],\n",
       " [50.0, 3.3333333333333295, 41.56],\n",
       " [40.0, 3.31666666666667, 41.59],\n",
       " [40.0, 3.3, 41.59],\n",
       " [50.0, 3.31666666666667, 41.7],\n",
       " [40.0, 3.3333333333333295, 41.7],\n",
       " [50.0, 3.35, 41.6266666666667],\n",
       " [50.0, 3.36666666666667, 41.7],\n",
       " [40.0, 3.38333333333333, 41.73],\n",
       " [50.0, 3.4, 41.79],\n",
       " [40.0, 3.5, 41.73],\n",
       " [40.0, 3.6, 41.79],\n",
       " [40.0, 3.7, 41.79],\n",
       " [40.0, 3.8, 41.79],\n",
       " [30.0, 3.9, 41.863333333333294],\n",
       " [70.0, 4.0, 41.9],\n",
       " [360.0, 3.95, 41.9666666666667],\n",
       " [400.0, 3.9, 42.23],\n",
       " [70.0, 3.85, 42.43],\n",
       " [70.0, 3.8, 42.6266666666667],\n",
       " [390.0, 3.75, 42.7],\n",
       " [100.0, 3.7, 42.7],\n",
       " [80.0, 3.3, 42.6266666666667],\n",
       " [70.0, 2.9, 42.59],\n",
       " [170.0, 2.5, 42.53],\n",
       " [360.0, 2.1, 42.5],\n",
       " [180.0, 1.7, 42.433333333333294],\n",
       " [130.0, 1.3, 42.29],\n",
       " [70.0, 1.4, 42.23],\n",
       " [70.0, 1.5, 42.2],\n",
       " [180.0, 1.6, 42.1175],\n",
       " [170.0, 1.7, 42.09],\n",
       " [390.0, 1.8, 42.03],\n",
       " [420.0, 1.9, 42.09],\n",
       " [340.0, 1.9666666666666697, 42.09],\n",
       " [550.0, 2.03333333333333, 42.09],\n",
       " [690.0, 2.1, 42.06],\n",
       " [620.0, 2.16666666666667, 41.7266666666667],\n",
       " [610.0, 2.2333333333333294, 41.4666666666667],\n",
       " [490.0, 2.3, 41.3266666666667],\n",
       " [260.0, 2.4, 41.09],\n",
       " [240.0, 2.5, 41.03],\n",
       " [220.0, 2.6, 40.79],\n",
       " [130.0, 2.7, 40.73],\n",
       " [90.0, 2.8, 40.6633333333333],\n",
       " [290.0, 2.9, 40.59],\n",
       " [410.0, 3.11666666666667, 40.53],\n",
       " [320.0, 3.3333333333333295, 40.59],\n",
       " [260.0, 3.55, 40.4666666666667],\n",
       " [210.0, 3.7666666666666706, 40.3725],\n",
       " [210.0, 3.9833333333333294, 40.29],\n",
       " [140.0, 4.2, 40.2],\n",
       " [60.0, 4.3, 40.1266666666667],\n",
       " [50.0, 4.4, 40.0],\n",
       " [60.0, 4.5, 40.0],\n",
       " [50.0, 4.6, 39.76],\n",
       " [60.0, 4.7, 39.7],\n",
       " [140.0, 4.8, 39.59],\n",
       " [270.0, 4.91666666666667, 39.53],\n",
       " [200.0, 5.03333333333333, 39.4666666666667],\n",
       " [60.0, 5.15, 39.4],\n",
       " [50.0, 5.26666666666667, 39.4],\n",
       " [60.0, 5.383333333333329, 39.3266666666667],\n",
       " [80.0, 5.5, 39.29],\n",
       " [50.0, 5.48333333333333, 39.23],\n",
       " [40.0, 5.46666666666667, 39.1633333333333],\n",
       " [50.0, 5.45, 39.09],\n",
       " [50.0, 5.43333333333333, 39.09],\n",
       " [40.0, 5.41666666666667, 38.9975],\n",
       " [30.0, 5.4, 38.9],\n",
       " [30.0, 5.26666666666667, 38.76],\n",
       " [200.0, 5.133333333333329, 38.7],\n",
       " [450.0, 5.0, 38.5],\n",
       " [400.0, 4.86666666666667, 38.433333333333294],\n",
       " [740.0, 4.73333333333333, 38.29],\n",
       " [910.0, 4.6, 38.363333333333294],\n",
       " [610.0, 4.5833333333333295, 38.59666666666671],\n",
       " [510.0, 4.56666666666667, 39.0633333333333],\n",
       " [190.0, 4.55, 39.53],\n",
       " [110.0, 4.53333333333333, 39.53],\n",
       " [100.0, 4.51666666666667, 39.56],\n",
       " [90.0, 4.5, 39.36],\n",
       " [110.0, 4.41666666666667, 39.1633333333333],\n",
       " [100.0, 4.3333333333333295, 39.03],\n",
       " [110.0, 4.25, 38.9],\n",
       " [100.0, 4.16666666666667, 38.7225],\n",
       " [790.0, 4.0833333333333295, 38.6266666666667],\n",
       " [380.0, 4.0, 38.59],\n",
       " [360.0, 3.9, 38.7925],\n",
       " [360.0, 3.8, 39.1333333333333],\n",
       " [100.0, 3.7, 39.6333333333333],\n",
       " [100.0, 3.6, 40.36],\n",
       " [90.0, 3.5, 41.1566666666667],\n",
       " [90.0, 3.4, 40.9566666666667],\n",
       " [110.0, 3.5, 40.46],\n",
       " [140.0, 3.6, 40.1266666666667],\n",
       " [110.0, 3.7, 40.19333333333329],\n",
       " [100.0, 3.8, 40.6],\n",
       " [110.0, 3.9, 41.0],\n",
       " [130.0, 4.0, 41.0],\n",
       " [140.0, 3.9166666666666705, 40.73],\n",
       " [130.0, 3.8333333333333295, 40.93],\n",
       " [120.0, 3.75, 41.09],\n",
       " [100.0, 3.6666666666666705, 41.1633333333333],\n",
       " [80.0, 3.5833333333333295, 41.0],\n",
       " [50.0, 3.5, 40.86],\n",
       " [50.0, 3.15, 40.433333333333294],\n",
       " [50.0, 2.8, 39.75],\n",
       " [40.0, 2.45, 39.7],\n",
       " [50.0, 2.1, 39.6633333333333],\n",
       " [50.0, 1.75, 39.6633333333333],\n",
       " [50.0, 1.4, 39.6633333333333],\n",
       " [40.0, 1.3, 39.6633333333333],\n",
       " [30.0, 1.2, 39.59],\n",
       " [30.0, 1.1, 39.59],\n",
       " [40.0, 1.0, 39.5],\n",
       " [40.0, 0.9, 39.5],\n",
       " [50.0, 0.8, 39.4666666666667],\n",
       " [60.0, 0.666666666666667, 39.4],\n",
       " [50.0, 0.533333333333333, 39.4],\n",
       " [60.0, 0.4, 39.3266666666667],\n",
       " [50.0, 0.266666666666667, 39.29],\n",
       " [50.0, 0.133333333333333, 39.23],\n",
       " [50.0, 0.0, 39.2],\n",
       " [50.0, 0.0666666666666667, 39.2],\n",
       " [50.0, 0.133333333333333, 39.1266666666667],\n",
       " [50.0, 0.2, 39.1266666666667],\n",
       " [60.0, 0.266666666666667, 39.09],\n",
       " [50.0, 0.333333333333333, 39.09],\n",
       " [50.0, 0.4, 39.09],\n",
       " [50.0, 0.55, 39.0],\n",
       " [50.0, 0.7, 39.0],\n",
       " [40.0, 0.85, 39.09],\n",
       " [50.0, 1.0, 39.03],\n",
       " [40.0, 1.15, 39.0],\n",
       " [30.0, 1.3, 39.06],\n",
       " [40.0, 1.53333333333333, 39.06],\n",
       " [30.0, 1.76666666666667, 39.06],\n",
       " [60.0, 2.0, 39.09],\n",
       " [50.0, 2.2333333333333294, 39.09],\n",
       " [50.0, 2.4666666666666694, 39.09],\n",
       " [40.0, 2.7, 39.09],\n",
       " [50.0, 2.75, 39.1266666666667],\n",
       " [60.0, 2.8, 39.1266666666667],\n",
       " [50.0, 2.85, 39.09],\n",
       " [50.0, 2.9, 39.09],\n",
       " [50.0, 2.95, 39.2],\n",
       " [50.0, 3.0, 39.145],\n",
       " [40.0, 3.03333333333333, 39.2],\n",
       " [50.0, 3.06666666666667, 39.2],\n",
       " [50.0, 3.1, 39.2],\n",
       " [50.0, 3.13333333333333, 39.2],\n",
       " [60.0, 3.16666666666667, 39.2],\n",
       " [50.0, 3.2, 39.29],\n",
       " [40.0, 3.2, 39.29],\n",
       " [50.0, 3.2, 39.23],\n",
       " [50.0, 3.2, 39.29],\n",
       " [50.0, 3.2, 39.4],\n",
       " [30.0, 3.2, 39.4],\n",
       " [70.0, 3.2, 39.3266666666667],\n",
       " [50.0, 3.2, 39.4],\n",
       " [50.0, 3.2, 39.4],\n",
       " [50.0, 3.2, 39.4666666666667],\n",
       " [50.0, 3.2, 39.5],\n",
       " [40.0, 3.2, 39.0266666666667],\n",
       " [50.0, 3.2, 35.6966666666667],\n",
       " [50.0, 3.2, 33.29],\n",
       " [150.0, 3.2, 32.95],\n",
       " [390.0, 3.2, 33.53],\n",
       " [390.0, 3.2, 33.99],\n",
       " [380.0, 3.2, 34.618],\n",
       " [400.0, 3.2, 34.7666666666667],\n",
       " [370.0, 3.2, 35.1],\n",
       " [310.0, 3.2, 35.4633333333333],\n",
       " [40.0, 3.2, 35.7966666666667],\n",
       " [50.0, 3.2, 36.39],\n",
       " [70.0, 3.2, 36.723333333333294],\n",
       " [60.0, 3.2, 37.0666666666667],\n",
       " [90.0, 3.31666666666667, 37.33333333333329],\n",
       " [60.0, 3.43333333333333, 37.5],\n",
       " [60.0, 3.55, 37.6333333333333],\n",
       " [100.0, 3.6666666666666705, 38.1266666666667],\n",
       " [380.0, 3.7833333333333297, 38.0666666666667],\n",
       " [390.0, 3.9, 38.09],\n",
       " [130.0, 3.86666666666667, 38.09],\n",
       " [60.0, 3.8333333333333295, 38.23],\n",
       " [60.0, 3.8, 38.363333333333294],\n",
       " [50.0, 3.7666666666666706, 38.35],\n",
       " [60.0, 3.7333333333333294, 38.0666666666667],\n",
       " [60.0, 3.7, 38.15],\n",
       " [240.0, 3.7333333333333294, 37.9983333333333],\n",
       " [80.0, 3.7666666666666706, 37.95],\n",
       " [80.0, 3.8, 37.9777777777778],\n",
       " [400.0, 3.8333333333333295, 38.0],\n",
       " [400.0, 3.86666666666667, 38.0675],\n",
       " [460.0, 3.9, 38.039375],\n",
       " [170.0, 3.95, 38.039375],\n",
       " [210.0, 4.0, 38.075],\n",
       " [190.0, 4.05, 38.015],\n",
       " [70.0, 4.1, 38.0],\n",
       " [80.0, 4.15, 38.05],\n",
       " [60.0, 4.2, 38.02],\n",
       " [70.0, 4.25, 38.01],\n",
       " [60.0, 4.3, 37.95],\n",
       " [70.0, 4.35, 37.9444444444444],\n",
       " [60.0, 4.4, 37.845],\n",
       " [60.0, 4.45, 37.6627777777778],\n",
       " [60.0, 4.5, 37.51],\n",
       " [60.0, 4.03333333333333, 37.4444444444444],\n",
       " [60.0, 3.56666666666667, 37.488888888888894],\n",
       " [50.0, 3.1, 37.4105555555556],\n",
       " [50.0, 2.63333333333333, 37.3572222222222],\n",
       " [60.0, 2.16666666666667, 37.308333333333294],\n",
       " [50.0, 1.7, 37.29],\n",
       " [50.0, 1.78333333333333, 37.29],\n",
       " [70.0, 1.86666666666667, 37.27],\n",
       " [50.0, 1.95, 37.215],\n",
       " [60.0, 2.03333333333333, 37.2],\n",
       " [60.0, 2.11666666666667, 37.1511111111111],\n",
       " [90.0, 2.2, 37.1755555555556],\n",
       " [100.0, 2.31666666666667, 37.145],\n",
       " [90.0, 2.43333333333333, 37.1022222222222],\n",
       " [100.0, 2.55, 37.09],\n",
       " [110.0, 2.66666666666667, 37.09],\n",
       " [100.0, 2.78333333333333, 37.09],\n",
       " [80.0, 2.9, 37.09],\n",
       " [110.0, 2.8333333333333295, 37.1541666666667],\n",
       " [260.0, 2.7666666666666706, 37.1214285714286],\n",
       " [350.0, 2.7, 37.1855555555556],\n",
       " [500.0, 2.63333333333333, 37.46],\n",
       " [370.0, 2.56666666666667, 37.92],\n",
       " [330.0, 2.5, 38.395],\n",
       " [100.0, 2.5, 39.09666666666671],\n",
       " [110.0, 2.5, 39.43],\n",
       " [140.0, 2.5, 39.5266666666667],\n",
       " [310.0, 2.5, 39.19333333333329],\n",
       " [330.0, 2.5, 39.06],\n",
       " [190.0, 2.5, 39.0],\n",
       " [160.0, 2.45, 38.933333333333294],\n",
       " [160.0, 2.4, 39.1333333333333],\n",
       " [480.0, 2.35, 39.5],\n",
       " [280.0, 2.3, 39.5225],\n",
       " [130.0, 2.25, 39.59],\n",
       " [150.0, 2.2, 39.4666666666667],\n",
       " [140.0, 2.2, 39.3266666666667],\n",
       " [130.0, 2.2, 39.1633333333333],\n",
       " [130.0, 2.2, 39.03],\n",
       " [340.0, 2.2, 38.9666666666667],\n",
       " [490.0, 2.2, 38.8266666666667],\n",
       " [230.0, 2.2, 38.76],\n",
       " [360.0, 2.28333333333333, 38.76],\n",
       " [410.0, 2.36666666666667, 38.43],\n",
       " [150.0, 2.45, 38.1566666666667],\n",
       " [80.0, 2.53333333333333, 38.2],\n",
       " [80.0, 2.61666666666667, 38.26],\n",
       " [70.0, 2.7, 38.3266666666667],\n",
       " [70.0, 2.65, 38.4],\n",
       " [70.0, 2.6, 38.5],\n",
       " [60.0, 2.55, 38.56],\n",
       " [60.0, 2.5, 38.6633333333333],\n",
       " [50.0, 2.45, 38.6633333333333],\n",
       " [50.0, 2.4, 38.79],\n",
       " [50.0, 2.375, 38.933333333333294],\n",
       " [30.0, 2.35, 39.0],\n",
       " [20.0, 2.325, 39.1266666666667],\n",
       " [40.0, 2.3, 39.26],\n",
       " [50.0, 2.275, 39.29],\n",
       " [50.0, 2.25, 39.363333333333294],\n",
       " [50.0, 2.225, 39.4],\n",
       " [60.0, 2.2, 39.4666666666667],\n",
       " [50.0, 2.175, 39.53],\n",
       " [60.0, 2.15, 39.59],\n",
       " [50.0, 2.125, 39.56],\n",
       " [40.0, 2.1, 39.56],\n",
       " [50.0, 2.0, 39.59],\n",
       " [50.0, 1.9, 39.59],\n",
       " [50.0, 1.8, 39.56],\n",
       " [50.0, 1.7, 39.5],\n",
       " [40.0, 1.6, 39.56],\n",
       " [30.0, 1.5, 39.56],\n",
       " [30.0, 1.35, 39.59],\n",
       " [40.0, 1.2, 39.5675],\n",
       " [50.0, 1.05, 39.56],\n",
       " [50.0, 0.9, 39.59],\n",
       " [50.0, 0.75, 39.59],\n",
       " [50.0, 0.6, 39.56],\n",
       " [60.0, 0.6, 39.5],\n",
       " [50.0, 0.6, 39.5],\n",
       " [50.0, 0.6, 39.5],\n",
       " [40.0, 0.6, 39.53],\n",
       " [50.0, 0.6, 39.59],\n",
       " [50.0, 0.6, 39.5],\n",
       " [50.0, 0.5833333333333329, 39.5],\n",
       " [50.0, 0.566666666666667, 39.5],\n",
       " [30.0, 0.55, 39.5],\n",
       " [30.0, 0.533333333333333, 39.5],\n",
       " [30.0, 0.5166666666666672, 39.56],\n",
       " [50.0, 0.5, 39.5],\n",
       " [50.0, 0.5833333333333329, 39.56],\n",
       " [40.0, 0.666666666666667, 39.59],\n",
       " [60.0, 0.75, 39.6175],\n",
       " [60.0, 0.8333333333333329, 39.7],\n",
       " [50.0, 0.9166666666666669, 39.7],\n",
       " [50.0, 1.0, 39.76],\n",
       " [50.0, 1.03333333333333, 39.76],\n",
       " [220.0, 1.06666666666667, 39.7],\n",
       " [390.0, 1.1, 39.56],\n",
       " [380.0, 1.13333333333333, 39.5],\n",
       " [390.0, 1.16666666666667, 39.55],\n",
       " [390.0, 1.2, 39.76],\n",
       " [240.0, 1.21666666666667, 40.0666666666667],\n",
       " [40.0, 1.23333333333333, 40.26],\n",
       " [70.0, 1.25, 40.3266666666667],\n",
       " [50.0, 1.26666666666667, 40.4666666666667],\n",
       " [50.0, 1.28333333333333, 40.59],\n",
       " [70.0, 1.3, 40.723333333333294],\n",
       " [60.0, 1.41666666666667, 40.79],\n",
       " [70.0, 1.53333333333333, 40.53],\n",
       " [60.0, 1.65, 40.4],\n",
       " [50.0, 1.76666666666667, 40.4],\n",
       " [60.0, 1.88333333333333, 40.4],\n",
       " [60.0, 2.0, 40.4],\n",
       " [80.0, 2.25, 40.4666666666667],\n",
       " [100.0, 2.5, 40.4666666666667],\n",
       " [60.0, 2.75, 40.4],\n",
       " [70.0, 3.0, 40.3266666666667],\n",
       " [60.0, 3.25, 40.4666666666667],\n",
       " [60.0, 3.5, 40.56],\n",
       " [50.0, 3.7, 40.5],\n",
       " [50.0, 3.9, 40.5],\n",
       " [40.0, 4.1, 40.433333333333294],\n",
       " [50.0, 4.3, 40.4],\n",
       " [70.0, 4.5, 40.4666666666667],\n",
       " [60.0, 4.7, 40.5],\n",
       " [60.0, 4.9, 40.5],\n",
       " [80.0, 5.1, 40.5],\n",
       " [80.0, 5.3, 40.5],\n",
       " [80.0, 5.5, 40.53],\n",
       " [90.0, 5.7, 38.9233333333333],\n",
       " [90.0, 5.9, 37.95],\n",
       " [100.0, 5.883333333333329, 38.1566666666667],\n",
       " [80.0, 5.86666666666667, 38.363333333333294],\n",
       " [90.0, 5.85, 38.5],\n",
       " [80.0, 5.8333333333333295, 38.5],\n",
       " [80.0, 5.81666666666667, 38.59],\n",
       " [80.0, 5.8, 38.6633333333333],\n",
       " [80.0, 5.7, 38.73],\n",
       " [90.0, 5.6, 38.79],\n",
       " [70.0, 5.5, 38.79],\n",
       " [50.0, 5.4, 38.79],\n",
       " [60.0, 5.3, 38.863333333333294],\n",
       " [70.0, 5.2, 38.79],\n",
       " [80.0, 5.01666666666667, 38.6633333333333],\n",
       " [70.0, 4.8333333333333295, 38.53],\n",
       " [370.0, 4.65, 38.363333333333294],\n",
       " [410.0, 4.46666666666667, 38.23],\n",
       " [250.0, 4.28333333333333, 38.2],\n",
       " [80.0, 4.1, 38.2],\n",
       " [70.0, 3.6833333333333296, 38.1633333333333],\n",
       " [70.0, 3.2666666666666706, 38.0675],\n",
       " [80.0, 2.85, 37.933333333333294],\n",
       " [70.0, 2.43333333333333, 37.79],\n",
       " [80.0, 2.0166666666666706, 37.73],\n",
       " [80.0, 1.6, 37.7],\n",
       " [150.0, 1.75, 37.7],\n",
       " [380.0, 1.9, 37.59],\n",
       " [290.0, 2.05, 37.59],\n",
       " [270.0, 2.2, 37.59],\n",
       " [420.0, 2.35, 37.59],\n",
       " [280.0, 2.5, 37.7],\n",
       " [300.0, 2.41666666666667, 37.76],\n",
       " [350.0, 2.3333333333333295, 37.76],\n",
       " [270.0, 2.25, 37.745],\n",
       " [560.0, 2.16666666666667, 37.79],\n",
       " [1080.0, 2.0833333333333295, 38.08],\n",
       " [750.0, 2.0, 38.39],\n",
       " [390.0, 1.8, 38.90333333333329],\n",
       " [350.0, 1.6, 39.225],\n",
       " [340.0, 1.4, 39.228888888888896],\n",
       " [290.0, 1.2, 39.0872222222222],\n",
       " [230.0, 1.0, 38.9425],\n",
       " [120.0, 0.8, 38.6266666666667],\n",
       " [110.0, 0.733333333333333, 38.4666666666667],\n",
       " [100.0, 0.666666666666667, 38.4],\n",
       " [110.0, 0.6, 38.29],\n",
       " [130.0, 0.533333333333333, 38.2],\n",
       " [140.0, 0.46666666666666706, 38.2],\n",
       " [110.0, 0.4, 38.2],\n",
       " [100.0, 0.416666666666667, 38.2],\n",
       " [100.0, 0.43333333333333296, 38.1725],\n",
       " [110.0, 0.45, 38.03],\n",
       " [110.0, 0.46666666666666706, 37.9666666666667],\n",
       " [190.0, 0.48333333333333295, 37.9],\n",
       " [450.0, 0.5, 37.863333333333294],\n",
       " [210.0, 0.5833333333333329, 37.79],\n",
       " [100.0, 0.666666666666667, 37.79],\n",
       " [90.0, 0.75, 37.73],\n",
       " [90.0, 0.8333333333333329, 37.7],\n",
       " [80.0, 0.9166666666666669, 37.76],\n",
       " [70.0, 1.0, 37.79],\n",
       " [70.0, 0.9166666666666669, 37.79],\n",
       " [70.0, 0.8333333333333329, 37.933333333333294],\n",
       " [60.0, 0.75, 38.0],\n",
       " [30.0, 0.666666666666667, 38.0],\n",
       " [30.0, 0.5833333333333329, 38.0675],\n",
       " [30.0, 0.5, 38.09],\n",
       " [40.0, 0.55, 38.1266666666667],\n",
       " [50.0, 0.6, 38.1266666666667],\n",
       " [60.0, 0.65, 38.23],\n",
       " [50.0, 0.7, 38.29],\n",
       " [50.0, 0.75, 38.29],\n",
       " [50.0, 0.8, 38.29],\n",
       " [50.0, 0.8333333333333329, 38.29],\n",
       " [50.0, 0.866666666666667, 38.29],\n",
       " [50.0, 0.9, 38.4],\n",
       " [50.0, 0.933333333333333, 38.4],\n",
       " [60.0, 0.966666666666667, 38.4],\n",
       " [50.0, 1.0, 38.4],\n",
       " [60.0, 0.9, 38.5],\n",
       " [50.0, 0.8, 38.56],\n",
       " [40.0, 0.7, 38.6266666666667],\n",
       " [30.0, 0.6, 38.6266666666667],\n",
       " [30.0, 0.5, 38.7],\n",
       " [30.0, 0.4, 38.7],\n",
       " [60.0, 0.43333333333333296, 38.79],\n",
       " [50.0, 0.46666666666666706, 38.8266666666667],\n",
       " [60.0, 0.5, 38.9],\n",
       " [50.0, 0.533333333333333, 38.9],\n",
       " [50.0, 0.566666666666667, 38.9],\n",
       " [50.0, 0.6, 38.933333333333294],\n",
       " [40.0, 0.5833333333333329, 39.0],\n",
       " [60.0, 0.566666666666667, 39.03],\n",
       " [50.0, 0.55, 39.09],\n",
       " [60.0, 0.533333333333333, 39.1266666666667],\n",
       " [50.0, 0.5166666666666672, 39.1266666666667],\n",
       " [50.0, 0.5, 39.09],\n",
       " [40.0, 0.48333333333333295, 39.1633333333333],\n",
       " [50.0, 0.46666666666666706, 39.2],\n",
       " [50.0, 0.45, 39.2],\n",
       " [30.0, 0.43333333333333296, 39.23],\n",
       " [40.0, 0.416666666666667, 39.29],\n",
       " [30.0, 0.4, 39.26],\n",
       " [50.0, 0.416666666666667, 39.26],\n",
       " [50.0, 0.43333333333333296, 39.345],\n",
       " [40.0, 0.45, 39.4],\n",
       " [50.0, 0.46666666666666706, 39.4],\n",
       " [50.0, 0.48333333333333295, 39.4],\n",
       " [170.0, 0.5, 39.4666666666667],\n",
       " [400.0, 0.28333333333333294, 39.5],\n",
       " [390.0, 0.0666666666666667, 39.433333333333294],\n",
       " [370.0, -0.15, 39.433333333333294],\n",
       " [390.0, -0.366666666666667, 39.56],\n",
       " [370.0, -0.5833333333333329, 39.59],\n",
       " [380.0, -0.8, 39.6633333333333],\n",
       " [100.0, -0.8, 39.8266666666667],\n",
       " [90.0, -0.8, 39.9666666666667],\n",
       " [470.0, -0.8, 40.09],\n",
       " [320.0, -0.8, 40.09],\n",
       " [270.0, -0.8, 40.09],\n",
       " [260.0, -0.8, 40.09],\n",
       " [230.0, -0.633333333333333, 39.93],\n",
       " [470.0, -0.46666666666666706, 39.79],\n",
       " [400.0, -0.3, 39.5],\n",
       " [290.0, -0.133333333333333, 39.2966666666667],\n",
       " [100.0, 0.0333333333333333, 39.03],\n",
       " [90.0, 0.2, 38.863333333333294],\n",
       " [90.0, 0.38333333333333297, 38.6566666666667],\n",
       " [90.0, 0.566666666666667, 38.4],\n",
       " [90.0, 0.75, 38.0666666666667],\n",
       " [100.0, 0.933333333333333, 37.9666666666667],\n",
       " [80.0, 1.11666666666667, 37.8266666666667],\n",
       " [180.0, 1.3, 37.6633333333333],\n",
       " [440.0, 1.48333333333333, 37.39],\n",
       " [300.0, 1.66666666666667, 36.86],\n",
       " [250.0, 1.85, 35.1333333333333],\n",
       " [280.0, 2.03333333333333, 34.4266666666667],\n",
       " [460.0, 2.2166666666666694, 34.96],\n",
       " [120.0, 2.4, 35.5966666666667],\n",
       " [120.0, 2.4833333333333294, 35.99],\n",
       " [110.0, 2.56666666666667, 36.3266666666667],\n",
       " [130.0, 2.65, 36.4666666666667],\n",
       " [110.0, 2.7333333333333294, 36.59],\n",
       " [120.0, 2.81666666666667, 36.59],\n",
       " [120.0, 2.9, 36.59],\n",
       " [120.0, 2.91666666666667, 36.56],\n",
       " [130.0, 2.93333333333333, 36.56],\n",
       " [120.0, 2.95, 36.59],\n",
       " [120.0, 2.9666666666666694, 36.6633333333333],\n",
       " [410.0, 2.9833333333333294, 36.5633333333333],\n",
       " [420.0, 3.0, 34.79],\n",
       " [140.0, 3.0166666666666706, 32.39],\n",
       " [60.0, 3.03333333333333, 31.16],\n",
       " [60.0, 3.05, 30.16],\n",
       " [70.0, 3.06666666666667, 30.366666666666696],\n",
       " [80.0, 3.0833333333333295, 31.233333333333295],\n",
       " [100.0, 3.1, 32.3271428571429],\n",
       " [80.0, 3.03333333333333, 33.115],\n",
       " [80.0, 2.9666666666666694, 33.6038461538462],\n",
       " [70.0, 2.9, 33.976],\n",
       " [80.0, 2.8333333333333295, 34.5133333333333],\n",
       " [80.0, 2.7666666666666706, 34.7257142857143],\n",
       " [90.0, 2.7, 34.9111111111111],\n",
       " [80.0, 2.38333333333333, 35.0],\n",
       " [80.0, 2.06666666666667, 35.116],\n",
       " [80.0, 1.75, 35.3266666666667],\n",
       " [80.0, 1.43333333333333, 35.675],\n",
       " [80.0, 1.11666666666667, 35.9],\n",
       " [90.0, 0.8, 35.975],\n",
       " [130.0, 0.533333333333333, 35.7966666666667],\n",
       " [380.0, 0.266666666666667, 35.825],\n",
       " [800.0, 0.0, 36.07727272727271],\n",
       " [790.0, -0.266666666666667, 37.0409090909091],\n",
       " [540.0, -0.533333333333333, 38.154],\n",
       " [120.0, -0.8, 40.56],\n",
       " [110.0, -0.8333333333333329, 41.15625],\n",
       " [160.0, -0.866666666666667, 40.6925],\n",
       " [140.0, -0.9, 40.3],\n",
       " [550.0, -0.933333333333333, 40.69333333333329],\n",
       " [530.0, -0.966666666666667, 40.7175],\n",
       " [100.0, -1.0, 40.72],\n",
       " [100.0, -1.03333333333333, 41.7777777777778],\n",
       " [90.0, -1.06666666666667, 42.3416666666667],\n",
       " [90.0, -1.1, 42.48125],\n",
       " [100.0, -1.13333333333333, 42.16375],\n",
       " [130.0, -1.16666666666667, 41.6788888888889],\n",
       " [110.0, -1.2, 41.1071428571429],\n",
       " [120.0, -1.25, 40.7],\n",
       " [100.0, -1.3, 40.05],\n",
       " [110.0, -1.35, 39.4],\n",
       " [100.0, -1.4, 39.33333333333329],\n",
       " [120.0, -1.45, 39.2],\n",
       " [250.0, -1.5, 39.433333333333294],\n",
       " [110.0, -1.56666666666667, 39.475],\n",
       " [110.0, -1.63333333333333, 39.3266666666667],\n",
       " [150.0, -1.7, 39.1633333333333],\n",
       " [110.0, -1.76666666666667, 39.03],\n",
       " [50.0, -1.8333333333333297, 38.9],\n",
       " [40.0, -1.9, 38.9666666666667],\n",
       " [50.0, -1.9666666666666697, 39.09],\n",
       " [50.0, -2.03333333333333, 39.1633333333333],\n",
       " [70.0, -2.1, 39.23],\n",
       " [60.0, -2.16666666666667, 39.363333333333294],\n",
       " [60.0, -2.2333333333333294, 39.433333333333294],\n",
       " [70.0, -2.3, 39.56],\n",
       " [50.0, -2.38333333333333, 39.59],\n",
       " [70.0, -2.4666666666666694, 39.6633333333333],\n",
       " [60.0, -2.55, 39.73],\n",
       " [70.0, -2.63333333333333, 39.863333333333294],\n",
       " [60.0, -2.7166666666666694, 40.0],\n",
       " [60.0, -2.8, 40.0],\n",
       " [50.0, -2.88333333333333, 40.09],\n",
       " [40.0, -2.9666666666666694, 40.0675],\n",
       " [30.0, -3.05, 40.0],\n",
       " [40.0, -3.13333333333333, 40.0],\n",
       " [50.0, -3.2166666666666694, 40.03],\n",
       " [50.0, -3.3, 40.09],\n",
       " [40.0, -3.41666666666667, 40.09],\n",
       " [50.0, -3.53333333333333, 40.1633333333333],\n",
       " [40.0, -3.65, 40.06],\n",
       " [40.0, -3.7666666666666706, 40.0],\n",
       " [40.0, -3.8833333333333298, 40.0],\n",
       " [60.0, -4.0, 40.0],\n",
       " [50.0, -4.0, 40.03],\n",
       " [50.0, -4.0, 40.03],\n",
       " [40.0, -4.0, 40.1266666666667],\n",
       " [40.0, -4.0, 40.2],\n",
       " [20.0, -4.0, 40.23],\n",
       " [30.0, -4.0, 40.23],\n",
       " [20.0, -4.0, 40.29],\n",
       " [50.0, -4.0, 40.363333333333294],\n",
       " [60.0, -4.0, 40.4],\n",
       " [40.0, -4.0, 40.4],\n",
       " [50.0, -4.0, 40.4666666666667],\n",
       " [40.0, -4.0, 40.4],\n",
       " [40.0, -4.0, 40.4],\n",
       " [50.0, -4.0, 40.4],\n",
       " [50.0, -4.0, 40.4],\n",
       " [40.0, -4.0, 40.4],\n",
       " [50.0, -4.0, 40.4],\n",
       " [40.0, -4.0, 40.29],\n",
       " [50.0, -4.0833333333333295, 40.363333333333294],\n",
       " [30.0, -4.16666666666667, 40.3266666666667],\n",
       " [20.0, -4.25, 40.4],\n",
       " [30.0, -4.3333333333333295, 40.4],\n",
       " [30.0, -4.41666666666667, 40.3266666666667],\n",
       " [50.0, -4.5, 40.29],\n",
       " [80.0, -4.55, 40.29],\n",
       " [40.0, -4.6, 40.433333333333294],\n",
       " [50.0, -4.65, 40.6333333333333],\n",
       " [40.0, -4.7, 40.86],\n",
       " [70.0, -4.75, 41.0],\n",
       " [100.0, -4.8, 41.1266666666667],\n",
       " [60.0, -4.75, 41.1266666666667],\n",
       " [50.0, -4.7, 41.33333333333329],\n",
       " [40.0, -4.65, 41.463333333333296],\n",
       " [40.0, -4.6, 41.59],\n",
       " [40.0, -4.55, 41.59],\n",
       " [20.0, -4.5, 41.59],\n",
       " [20.0, -4.43333333333333, 41.59],\n",
       " [30.0, -4.36666666666667, 41.53],\n",
       " [50.0, -4.3, 41.56],\n",
       " [50.0, -4.23333333333333, 41.56],\n",
       " [40.0, -4.16666666666667, 41.59],\n",
       " [40.0, -4.1, 41.59],\n",
       " [40.0, -4.0, 41.7],\n",
       " [40.0, -3.9, 41.7],\n",
       " [50.0, -3.8, 41.73],\n",
       " [50.0, -3.7, 41.79],\n",
       " [50.0, -3.6, 41.79],\n",
       " [40.0, -3.5, 41.79],\n",
       " [40.0, -3.28333333333333, 41.79],\n",
       " [20.0, -3.06666666666667, 41.79],\n",
       " [20.0, -2.85, 41.79],\n",
       " [30.0, -2.63333333333333, 41.7],\n",
       " [40.0, -2.41666666666667, 41.7],\n",
       " [50.0, -2.2, 41.6633333333333],\n",
       " [50.0, -2.06666666666667, 41.59],\n",
       " [40.0, -1.93333333333333, 41.59],\n",
       " [40.0, -1.8, 41.59],\n",
       " [50.0, -1.66666666666667, 41.53],\n",
       " [40.0, -1.53333333333333, 41.59],\n",
       " [40.0, -1.4, 41.59],\n",
       " [50.0, -1.35, 41.53],\n",
       " [40.0, -1.3, 41.5],\n",
       " [50.0, -1.25, 41.5],\n",
       " [40.0, -1.2, 41.5],\n",
       " [20.0, -1.15, 41.5],\n",
       " [20.0, -1.1, 41.5],\n",
       " [30.0, -1.01666666666667, 41.45],\n",
       " [40.0, -0.933333333333333, 41.5],\n",
       " [50.0, -0.85, 41.433333333333294],\n",
       " [50.0, -0.766666666666667, 41.5],\n",
       " [50.0, -0.683333333333333, 41.4],\n",
       " [40.0, -0.6, 41.4666666666667],\n",
       " [40.0, -0.566666666666667, 41.5],\n",
       " [40.0, -0.533333333333333, 41.5],\n",
       " [40.0, -0.5, 41.5],\n",
       " [40.0, -0.46666666666666706, 41.5],\n",
       " [50.0, -0.43333333333333296, 41.5],\n",
       " [50.0, -0.4, 41.5],\n",
       " [30.0, -0.416666666666667, 41.4],\n",
       " [20.0, -0.43333333333333296, 41.4],\n",
       " [30.0, -0.45, 41.4],\n",
       " ...]"
      ]
     },
     "execution_count": 49,
     "metadata": {},
     "output_type": "execute_result"
    }
   ],
   "source": [
    "features"
   ]
  },
  {
   "cell_type": "code",
   "execution_count": 50,
   "metadata": {},
   "outputs": [],
   "source": [
    "#time series generator with tumbling window \n",
    "ts_generator = TimeseriesGenerator(features[:-2], multi_target, length=6, sampling_rate=1, batch_size=1, stride=6)\n",
    "#features[:-2] as the last two rows of target data which has nan values are removed\n"
   ]
  },
  {
   "cell_type": "code",
   "execution_count": 51,
   "metadata": {},
   "outputs": [
    {
     "data": {
      "text/plain": [
       "(array([[[60.        ,  6.6       , 44.79      ],\n",
       "         [60.        ,  6.48333333, 44.7225    ],\n",
       "         [50.        ,  6.36666667, 44.62666667],\n",
       "         [50.        ,  6.25      , 44.59      ],\n",
       "         [60.        ,  6.13333333, 44.53      ],\n",
       "         [50.        ,  6.01666667, 44.5       ]]]),\n",
       " array([[60., 60., 60.]]))"
      ]
     },
     "execution_count": 51,
     "metadata": {},
     "output_type": "execute_result"
    }
   ],
   "source": [
    "ts_generator[0]"
   ]
  },
  {
   "cell_type": "code",
   "execution_count": 52,
   "metadata": {},
   "outputs": [
    {
     "data": {
      "text/plain": [
       "(array([[[ 60.        ,   5.9       ,  44.5       ],\n",
       "         [ 60.        ,   5.91666667,  44.5       ],\n",
       "         [ 60.        ,   5.93333333,  44.43333333],\n",
       "         [ 70.        ,   5.95      ,  44.4       ],\n",
       "         [230.        ,   5.96666667,  44.4       ],\n",
       "         [580.        ,   5.98333333,  44.4       ]]]),\n",
       " array([[430., 250., 100.]]))"
      ]
     },
     "execution_count": 52,
     "metadata": {},
     "output_type": "execute_result"
    }
   ],
   "source": [
    "ts_generator[1] #here after 6  feature inputs the next three data is considered as target"
   ]
  },
  {
   "cell_type": "markdown",
   "metadata": {},
   "source": [
    "Here, multiple o/ps are predicted with a tumbling window size of 6 ie no overlapping of data"
   ]
  },
  {
   "cell_type": "markdown",
   "metadata": {},
   "source": [
    "#### Modelling"
   ]
  },
  {
   "cell_type": "code",
   "execution_count": 53,
   "metadata": {},
   "outputs": [
    {
     "data": {
      "text/plain": [
       "array([<Axes: xlabel='date'>, <Axes: xlabel='date'>,\n",
       "       <Axes: xlabel='date'>, <Axes: xlabel='date'>,\n",
       "       <Axes: xlabel='date'>], dtype=object)"
      ]
     },
     "execution_count": 53,
     "metadata": {},
     "output_type": "execute_result"
    },
    {
     "data": {
      "image/png": "[encoded data removed]",
      "text/plain": [
       "<Figure size 1000x800 with 5 Axes>"
      ]
     },
     "metadata": {},
     "output_type": "display_data"
    }
   ],
   "source": [
    "df.set_index('date')[['Appliances', 'lights','T_out', 'RH_1', 'Visibility']].plot(subplots=True)"
   ]
  },
  {
   "cell_type": "code",
   "execution_count": 54,
   "metadata": {},
   "outputs": [
    {
     "data": {
      "text/html": [
       "<div>\n",
       "<style scoped>\n",
       "    .dataframe tbody tr th:only-of-type {\n",
       "        vertical-align: middle;\n",
       "    }\n",
       "\n",
       "    .dataframe tbody tr th {\n",
       "        vertical-align: top;\n",
       "    }\n",
       "\n",
       "    .dataframe thead th {\n",
       "        text-align: right;\n",
       "    }\n",
       "</style>\n",
       "<table border=\"1\" class=\"dataframe\">\n",
       "  <thead>\n",
       "    <tr style=\"text-align: right;\">\n",
       "      <th></th>\n",
       "      <th>Appliances</th>\n",
       "      <th>T_out</th>\n",
       "      <th>RH_1</th>\n",
       "      <th>Visibility</th>\n",
       "    </tr>\n",
       "  </thead>\n",
       "  <tbody>\n",
       "    <tr>\n",
       "      <th>0</th>\n",
       "      <td>60</td>\n",
       "      <td>6.600000</td>\n",
       "      <td>47.596667</td>\n",
       "      <td>63.000000</td>\n",
       "    </tr>\n",
       "    <tr>\n",
       "      <th>1</th>\n",
       "      <td>60</td>\n",
       "      <td>6.483333</td>\n",
       "      <td>46.693333</td>\n",
       "      <td>59.166667</td>\n",
       "    </tr>\n",
       "    <tr>\n",
       "      <th>2</th>\n",
       "      <td>50</td>\n",
       "      <td>6.366667</td>\n",
       "      <td>46.300000</td>\n",
       "      <td>55.333333</td>\n",
       "    </tr>\n",
       "    <tr>\n",
       "      <th>3</th>\n",
       "      <td>50</td>\n",
       "      <td>6.250000</td>\n",
       "      <td>46.066667</td>\n",
       "      <td>51.500000</td>\n",
       "    </tr>\n",
       "    <tr>\n",
       "      <th>4</th>\n",
       "      <td>60</td>\n",
       "      <td>6.133333</td>\n",
       "      <td>46.333333</td>\n",
       "      <td>47.666667</td>\n",
       "    </tr>\n",
       "    <tr>\n",
       "      <th>...</th>\n",
       "      <td>...</td>\n",
       "      <td>...</td>\n",
       "      <td>...</td>\n",
       "      <td>...</td>\n",
       "    </tr>\n",
       "    <tr>\n",
       "      <th>19730</th>\n",
       "      <td>100</td>\n",
       "      <td>22.733333</td>\n",
       "      <td>46.560000</td>\n",
       "      <td>23.666667</td>\n",
       "    </tr>\n",
       "    <tr>\n",
       "      <th>19731</th>\n",
       "      <td>90</td>\n",
       "      <td>22.600000</td>\n",
       "      <td>46.500000</td>\n",
       "      <td>24.500000</td>\n",
       "    </tr>\n",
       "    <tr>\n",
       "      <th>19732</th>\n",
       "      <td>270</td>\n",
       "      <td>22.466667</td>\n",
       "      <td>46.596667</td>\n",
       "      <td>25.333333</td>\n",
       "    </tr>\n",
       "    <tr>\n",
       "      <th>19733</th>\n",
       "      <td>420</td>\n",
       "      <td>22.333333</td>\n",
       "      <td>46.990000</td>\n",
       "      <td>26.166667</td>\n",
       "    </tr>\n",
       "    <tr>\n",
       "      <th>19734</th>\n",
       "      <td>430</td>\n",
       "      <td>22.200000</td>\n",
       "      <td>46.600000</td>\n",
       "      <td>27.000000</td>\n",
       "    </tr>\n",
       "  </tbody>\n",
       "</table>\n",
       "<p>19735 rows × 4 columns</p>\n",
       "</div>"
      ],
      "text/plain": [
       "       Appliances      T_out       RH_1  Visibility\n",
       "0              60   6.600000  47.596667   63.000000\n",
       "1              60   6.483333  46.693333   59.166667\n",
       "2              50   6.366667  46.300000   55.333333\n",
       "3              50   6.250000  46.066667   51.500000\n",
       "4              60   6.133333  46.333333   47.666667\n",
       "...           ...        ...        ...         ...\n",
       "19730         100  22.733333  46.560000   23.666667\n",
       "19731          90  22.600000  46.500000   24.500000\n",
       "19732         270  22.466667  46.596667   25.333333\n",
       "19733         420  22.333333  46.990000   26.166667\n",
       "19734         430  22.200000  46.600000   27.000000\n",
       "\n",
       "[19735 rows x 4 columns]"
      ]
     },
     "execution_count": 54,
     "metadata": {},
     "output_type": "execute_result"
    }
   ],
   "source": [
    "df_input=df[['Appliances','T_out', 'RH_1', 'Visibility']]\n",
    "df_input"
   ]
  },
  {
   "cell_type": "code",
   "execution_count": 55,
   "metadata": {},
   "outputs": [
    {
     "data": {
      "text/html": [
       "<div>\n",
       "<style scoped>\n",
       "    .dataframe tbody tr th:only-of-type {\n",
       "        vertical-align: middle;\n",
       "    }\n",
       "\n",
       "    .dataframe tbody tr th {\n",
       "        vertical-align: top;\n",
       "    }\n",
       "\n",
       "    .dataframe thead th {\n",
       "        text-align: right;\n",
       "    }\n",
       "</style>\n",
       "<table border=\"1\" class=\"dataframe\">\n",
       "  <thead>\n",
       "    <tr style=\"text-align: right;\">\n",
       "      <th></th>\n",
       "      <th>Appliances</th>\n",
       "      <th>T_out</th>\n",
       "      <th>RH_1</th>\n",
       "      <th>Visibility</th>\n",
       "    </tr>\n",
       "  </thead>\n",
       "  <tbody>\n",
       "    <tr>\n",
       "      <th>count</th>\n",
       "      <td>19735.000000</td>\n",
       "      <td>19735.000000</td>\n",
       "      <td>19735.000000</td>\n",
       "      <td>19735.000000</td>\n",
       "    </tr>\n",
       "    <tr>\n",
       "      <th>mean</th>\n",
       "      <td>97.694958</td>\n",
       "      <td>7.411665</td>\n",
       "      <td>40.259739</td>\n",
       "      <td>38.330834</td>\n",
       "    </tr>\n",
       "    <tr>\n",
       "      <th>std</th>\n",
       "      <td>102.524891</td>\n",
       "      <td>5.317409</td>\n",
       "      <td>3.979299</td>\n",
       "      <td>11.794719</td>\n",
       "    </tr>\n",
       "    <tr>\n",
       "      <th>min</th>\n",
       "      <td>10.000000</td>\n",
       "      <td>-5.000000</td>\n",
       "      <td>27.023333</td>\n",
       "      <td>1.000000</td>\n",
       "    </tr>\n",
       "    <tr>\n",
       "      <th>25%</th>\n",
       "      <td>50.000000</td>\n",
       "      <td>3.666667</td>\n",
       "      <td>37.333333</td>\n",
       "      <td>29.000000</td>\n",
       "    </tr>\n",
       "    <tr>\n",
       "      <th>50%</th>\n",
       "      <td>60.000000</td>\n",
       "      <td>6.916667</td>\n",
       "      <td>39.656667</td>\n",
       "      <td>40.000000</td>\n",
       "    </tr>\n",
       "    <tr>\n",
       "      <th>75%</th>\n",
       "      <td>100.000000</td>\n",
       "      <td>10.408333</td>\n",
       "      <td>43.066667</td>\n",
       "      <td>40.000000</td>\n",
       "    </tr>\n",
       "    <tr>\n",
       "      <th>max</th>\n",
       "      <td>1080.000000</td>\n",
       "      <td>26.100000</td>\n",
       "      <td>63.360000</td>\n",
       "      <td>66.000000</td>\n",
       "    </tr>\n",
       "  </tbody>\n",
       "</table>\n",
       "</div>"
      ],
      "text/plain": [
       "         Appliances         T_out          RH_1    Visibility\n",
       "count  19735.000000  19735.000000  19735.000000  19735.000000\n",
       "mean      97.694958      7.411665     40.259739     38.330834\n",
       "std      102.524891      5.317409      3.979299     11.794719\n",
       "min       10.000000     -5.000000     27.023333      1.000000\n",
       "25%       50.000000      3.666667     37.333333     29.000000\n",
       "50%       60.000000      6.916667     39.656667     40.000000\n",
       "75%      100.000000     10.408333     43.066667     40.000000\n",
       "max     1080.000000     26.100000     63.360000     66.000000"
      ]
     },
     "execution_count": 55,
     "metadata": {},
     "output_type": "execute_result"
    }
   ],
   "source": [
    "df_input.describe()"
   ]
  },
  {
   "cell_type": "code",
   "execution_count": 56,
   "metadata": {},
   "outputs": [
    {
     "data": {
      "text/html": [
       "<div>\n",
       "<style scoped>\n",
       "    .dataframe tbody tr th:only-of-type {\n",
       "        vertical-align: middle;\n",
       "    }\n",
       "\n",
       "    .dataframe tbody tr th {\n",
       "        vertical-align: top;\n",
       "    }\n",
       "\n",
       "    .dataframe thead th {\n",
       "        text-align: right;\n",
       "    }\n",
       "</style>\n",
       "<table border=\"1\" class=\"dataframe\">\n",
       "  <thead>\n",
       "    <tr style=\"text-align: right;\">\n",
       "      <th></th>\n",
       "      <th>Appliances</th>\n",
       "      <th>T_out</th>\n",
       "      <th>RH_1</th>\n",
       "      <th>Visibility</th>\n",
       "    </tr>\n",
       "  </thead>\n",
       "  <tbody>\n",
       "    <tr>\n",
       "      <th>11</th>\n",
       "      <td>580</td>\n",
       "      <td>5.983333</td>\n",
       "      <td>46.396667</td>\n",
       "      <td>40.000000</td>\n",
       "    </tr>\n",
       "    <tr>\n",
       "      <th>314</th>\n",
       "      <td>520</td>\n",
       "      <td>2.900000</td>\n",
       "      <td>41.530000</td>\n",
       "      <td>36.333333</td>\n",
       "    </tr>\n",
       "    <tr>\n",
       "      <th>392</th>\n",
       "      <td>550</td>\n",
       "      <td>2.033333</td>\n",
       "      <td>43.433333</td>\n",
       "      <td>40.000000</td>\n",
       "    </tr>\n",
       "    <tr>\n",
       "      <th>393</th>\n",
       "      <td>690</td>\n",
       "      <td>2.100000</td>\n",
       "      <td>43.766667</td>\n",
       "      <td>40.000000</td>\n",
       "    </tr>\n",
       "    <tr>\n",
       "      <th>394</th>\n",
       "      <td>620</td>\n",
       "      <td>2.166667</td>\n",
       "      <td>43.693333</td>\n",
       "      <td>40.000000</td>\n",
       "    </tr>\n",
       "    <tr>\n",
       "      <th>...</th>\n",
       "      <td>...</td>\n",
       "      <td>...</td>\n",
       "      <td>...</td>\n",
       "      <td>...</td>\n",
       "    </tr>\n",
       "    <tr>\n",
       "      <th>19586</th>\n",
       "      <td>600</td>\n",
       "      <td>20.833333</td>\n",
       "      <td>44.066667</td>\n",
       "      <td>40.000000</td>\n",
       "    </tr>\n",
       "    <tr>\n",
       "      <th>19587</th>\n",
       "      <td>520</td>\n",
       "      <td>20.900000</td>\n",
       "      <td>43.366667</td>\n",
       "      <td>40.000000</td>\n",
       "    </tr>\n",
       "    <tr>\n",
       "      <th>19684</th>\n",
       "      <td>580</td>\n",
       "      <td>15.900000</td>\n",
       "      <td>47.226667</td>\n",
       "      <td>61.000000</td>\n",
       "    </tr>\n",
       "    <tr>\n",
       "      <th>19685</th>\n",
       "      <td>660</td>\n",
       "      <td>16.100000</td>\n",
       "      <td>47.693333</td>\n",
       "      <td>61.000000</td>\n",
       "    </tr>\n",
       "    <tr>\n",
       "      <th>19695</th>\n",
       "      <td>620</td>\n",
       "      <td>19.100000</td>\n",
       "      <td>48.326667</td>\n",
       "      <td>64.000000</td>\n",
       "    </tr>\n",
       "  </tbody>\n",
       "</table>\n",
       "<p>288 rows × 4 columns</p>\n",
       "</div>"
      ],
      "text/plain": [
       "       Appliances      T_out       RH_1  Visibility\n",
       "11            580   5.983333  46.396667   40.000000\n",
       "314           520   2.900000  41.530000   36.333333\n",
       "392           550   2.033333  43.433333   40.000000\n",
       "393           690   2.100000  43.766667   40.000000\n",
       "394           620   2.166667  43.693333   40.000000\n",
       "...           ...        ...        ...         ...\n",
       "19586         600  20.833333  44.066667   40.000000\n",
       "19587         520  20.900000  43.366667   40.000000\n",
       "19684         580  15.900000  47.226667   61.000000\n",
       "19685         660  16.100000  47.693333   61.000000\n",
       "19695         620  19.100000  48.326667   64.000000\n",
       "\n",
       "[288 rows x 4 columns]"
      ]
     },
     "execution_count": 56,
     "metadata": {},
     "output_type": "execute_result"
    }
   ],
   "source": [
    "\n",
    "df_input.query(\"Appliances > 500\")"
   ]
  },
  {
   "cell_type": "code",
   "execution_count": 58,
   "metadata": {},
   "outputs": [],
   "source": [
    "scaler = MinMaxScaler()\n",
    "data_scaled = scaler.fit_transform(df_input)"
   ]
  },
  {
   "cell_type": "code",
   "execution_count": 61,
   "metadata": {},
   "outputs": [
    {
     "data": {
      "text/plain": [
       "(numpy.ndarray,\n",
       " array([[0.04672897, 0.37299035, 0.56618659, 0.95384615],\n",
       "        [0.04672897, 0.36923901, 0.54132648, 0.89487179],\n",
       "        [0.03738318, 0.36548767, 0.53050179, 0.83589744],\n",
       "        ...,\n",
       "        [0.24299065, 0.88317256, 0.53866618, 0.37435897],\n",
       "        [0.38317757, 0.87888532, 0.54949087, 0.38717949],\n",
       "        [0.39252336, 0.87459807, 0.53875791, 0.4       ]]))"
      ]
     },
     "execution_count": 61,
     "metadata": {},
     "output_type": "execute_result"
    }
   ],
   "source": [
    "type(data_scaled),data_scaled"
   ]
  },
  {
   "cell_type": "code",
   "execution_count": 62,
   "metadata": {},
   "outputs": [],
   "source": [
    "features = data_scaled\n",
    "target = data_scaled[:,0]"
   ]
  },
  {
   "cell_type": "code",
   "execution_count": 63,
   "metadata": {},
   "outputs": [
    {
     "data": {
      "text/plain": [
       "array([0.04672897, 0.04672897, 0.03738318, ..., 0.24299065, 0.38317757,\n",
       "       0.39252336])"
      ]
     },
     "execution_count": 63,
     "metadata": {},
     "output_type": "execute_result"
    }
   ],
   "source": [
    "target"
   ]
  },
  {
   "cell_type": "code",
   "execution_count": 65,
   "metadata": {},
   "outputs": [],
   "source": [
    "X_train, X_test, y_train, y_test = train_test_split(features, target, test_size=0.20, random_state=123, shuffle = False)\n",
    "# for LSTM models time is not given as input where as for fbprophet models time is also given as input"
   ]
  },
  {
   "cell_type": "code",
   "execution_count": 67,
   "metadata": {},
   "outputs": [
    {
     "data": {
      "text/plain": [
       "((15788, 4), (3947, 4), (15788,), (3947,))"
      ]
     },
     "execution_count": 67,
     "metadata": {},
     "output_type": "execute_result"
    }
   ],
   "source": [
    "X_train.shape,X_test.shape,y_train.shape,y_test.shape"
   ]
  },
  {
   "cell_type": "code",
   "execution_count": 68,
   "metadata": {},
   "outputs": [],
   "source": [
    "#this is th crux of timeseries model. ie converting a forecasting problem into supervised learning\n",
    "win_length=720 #this implies 5 days of data as input and predicts the 6th day appliance data\n",
    "batch_size=32\n",
    "num_features=4\n",
    "train_generator = TimeseriesGenerator(X_train, y_train, length=win_length, sampling_rate=1, batch_size=batch_size)\n",
    "test_generator = TimeseriesGenerator(X_test, y_test, length=win_length, sampling_rate=1, batch_size=batch_size)\n",
    "     "
   ]
  },
  {
   "cell_type": "code",
   "execution_count": 69,
   "metadata": {},
   "outputs": [
    {
     "data": {
      "text/plain": [
       "(array([[[0.04672897, 0.37299035, 0.56618659, 0.95384615],\n",
       "         [0.04672897, 0.36923901, 0.54132648, 0.89487179],\n",
       "         [0.03738318, 0.36548767, 0.53050179, 0.83589744],\n",
       "         ...,\n",
       "         [0.06542056, 0.25241158, 0.31584258, 0.79230769],\n",
       "         [0.05607477, 0.23901393, 0.31309054, 0.72820513],\n",
       "         [0.06542056, 0.22561629, 0.31107238, 0.66410256]],\n",
       " \n",
       "        [[0.04672897, 0.36923901, 0.54132648, 0.89487179],\n",
       "         [0.03738318, 0.36548767, 0.53050179, 0.83589744],\n",
       "         [0.03738318, 0.36173633, 0.52408036, 0.77692308],\n",
       "         ...,\n",
       "         [0.05607477, 0.23901393, 0.31309054, 0.72820513],\n",
       "         [0.06542056, 0.22561629, 0.31107238, 0.66410256],\n",
       "         [0.06542056, 0.21221865, 0.30923768, 0.6       ]],\n",
       " \n",
       "        [[0.03738318, 0.36548767, 0.53050179, 0.83589744],\n",
       "         [0.03738318, 0.36173633, 0.52408036, 0.77692308],\n",
       "         [0.04672897, 0.35798499, 0.53141914, 0.71794872],\n",
       "         ...,\n",
       "         [0.06542056, 0.22561629, 0.31107238, 0.66410256],\n",
       "         [0.06542056, 0.21221865, 0.30923768, 0.6       ],\n",
       "         [0.13084112, 0.2170418 , 0.3055683 , 0.6       ]],\n",
       " \n",
       "        ...,\n",
       " \n",
       "        [[0.08411215, 0.34297964, 0.50389872, 0.6       ],\n",
       "         [0.09345794, 0.34083601, 0.49821117, 0.6       ],\n",
       "         [0.36448598, 0.34244373, 0.49380791, 0.6       ],\n",
       "         ...,\n",
       "         [0.08411215, 0.17470525, 0.32134667, 0.24615385],\n",
       "         [0.09345794, 0.17524116, 0.31749381, 0.26923077],\n",
       "         [0.09345794, 0.17577706, 0.31400789, 0.29230769]],\n",
       " \n",
       "        [[0.09345794, 0.34083601, 0.49821117, 0.6       ],\n",
       "         [0.36448598, 0.34244373, 0.49380791, 0.6       ],\n",
       "         [0.36448598, 0.34405145, 0.48830383, 0.6       ],\n",
       "         ...,\n",
       "         [0.09345794, 0.17524116, 0.31749381, 0.26923077],\n",
       "         [0.09345794, 0.17577706, 0.31400789, 0.29230769],\n",
       "         [0.1682243 , 0.17631297, 0.31208146, 0.31538462]],\n",
       " \n",
       "        [[0.36448598, 0.34244373, 0.49380791, 0.6       ],\n",
       "         [0.36448598, 0.34405145, 0.48830383, 0.6       ],\n",
       "         [0.35514019, 0.34565916, 0.48261627, 0.6       ],\n",
       "         ...,\n",
       "         [0.09345794, 0.17577706, 0.31400789, 0.29230769],\n",
       "         [0.1682243 , 0.17631297, 0.31208146, 0.31538462],\n",
       "         [0.41121495, 0.17684887, 0.3100633 , 0.33846154]]]),\n",
       " array([0.06542056, 0.13084112, 0.34579439, 0.26168224, 0.24299065,\n",
       "        0.38317757, 0.25233645, 0.27102804, 0.31775701, 0.24299065,\n",
       "        0.51401869, 1.        , 0.69158879, 0.35514019, 0.31775701,\n",
       "        0.30841121, 0.26168224, 0.20560748, 0.10280374, 0.09345794,\n",
       "        0.08411215, 0.09345794, 0.11214953, 0.12149533, 0.09345794,\n",
       "        0.08411215, 0.08411215, 0.09345794, 0.09345794, 0.1682243 ,\n",
       "        0.41121495, 0.18691589]))"
      ]
     },
     "execution_count": 69,
     "metadata": {},
     "output_type": "execute_result"
    }
   ],
   "source": [
    "train_generator[0]"
   ]
  },
  {
   "cell_type": "code",
   "execution_count": 74,
   "metadata": {},
   "outputs": [
    {
     "name": "stdout",
     "output_type": "stream",
     "text": [
      "WARNING:tensorflow:From c:\\Users\\saras\\steffysara\\VS_Code_Projects\\Time_series\\venv\\lib\\site-packages\\keras\\src\\backend.py:873: The name tf.get_default_graph is deprecated. Please use tf.compat.v1.get_default_graph instead.\n",
      "\n",
      "WARNING:tensorflow:From c:\\Users\\saras\\steffysara\\VS_Code_Projects\\Time_series\\venv\\lib\\site-packages\\keras\\src\\optimizers\\__init__.py:309: The name tf.train.Optimizer is deprecated. Please use tf.compat.v1.train.Optimizer instead.\n",
      "\n",
      "Model: \"sequential\"\n",
      "_________________________________________________________________\n",
      " Layer (type)                Output Shape              Param #   \n",
      "=================================================================\n",
      " lstm (LSTM)                 (None, 720, 128)          68096     \n",
      "                                                                 \n",
      " lstm_1 (LSTM)               (None, 64)                49408     \n",
      "                                                                 \n",
      " dropout (Dropout)           (None, 64)                0         \n",
      "                                                                 \n",
      " dense (Dense)               (None, 1)                 65        \n",
      "                                                                 \n",
      "=================================================================\n",
      "Total params: 117569 (459.25 KB)\n",
      "Trainable params: 117569 (459.25 KB)\n",
      "Non-trainable params: 0 (0.00 Byte)\n",
      "_________________________________________________________________\n"
     ]
    }
   ],
   "source": [
    "model = Sequential()\n",
    "model.add(LSTM(128, input_shape= (win_length, num_features), activation='relu',return_sequences=True))\n",
    "model.add(LSTM(64, return_sequences=False))\n",
    "model.add(Dropout(0.3)) \n",
    "model.add(Dense(1))\n",
    "model.compile(optimizer='adam', loss='mean_squared_error', metrics = ['mean_absolute_error'])\n",
    "\n",
    "model.summary()"
   ]
  },
  {
   "cell_type": "code",
   "execution_count": 78,
   "metadata": {},
   "outputs": [
    {
     "name": "stderr",
     "output_type": "stream",
     "text": [
      "C:\\Users\\saras\\AppData\\Local\\Temp\\ipykernel_3832\\3729785562.py:2: UserWarning: `Model.fit_generator` is deprecated and will be removed in a future version. Please use `Model.fit`, which supports generators.\n",
      "  history = model.fit_generator(train_generator, epochs=50,validation_data=test_generator,shuffle=False,callbacks=[early_stopping])\n"
     ]
    },
    {
     "name": "stdout",
     "output_type": "stream",
     "text": [
      "Epoch 1/50\n",
      "WARNING:tensorflow:From c:\\Users\\saras\\steffysara\\VS_Code_Projects\\Time_series\\venv\\lib\\site-packages\\keras\\src\\utils\\tf_utils.py:492: The name tf.ragged.RaggedTensorValue is deprecated. Please use tf.compat.v1.ragged.RaggedTensorValue instead.\n",
      "\n",
      "WARNING:tensorflow:From c:\\Users\\saras\\steffysara\\VS_Code_Projects\\Time_series\\venv\\lib\\site-packages\\keras\\src\\engine\\base_layer_utils.py:384: The name tf.executing_eagerly_outside_functions is deprecated. Please use tf.compat.v1.executing_eagerly_outside_functions instead.\n",
      "\n",
      "471/471 [==============================] - 356s 749ms/step - loss: 0.0075 - mean_absolute_error: 0.0471 - val_loss: 0.0053 - val_mean_absolute_error: 0.0489\n",
      "Epoch 2/50\n",
      "471/471 [==============================] - 363s 771ms/step - loss: 0.0055 - mean_absolute_error: 0.0377 - val_loss: 0.0037 - val_mean_absolute_error: 0.0379\n",
      "Epoch 3/50\n",
      "471/471 [==============================] - 398s 845ms/step - loss: 0.0042 - mean_absolute_error: 0.0324 - val_loss: 0.0035 - val_mean_absolute_error: 0.0348\n",
      "Epoch 4/50\n",
      "471/471 [==============================] - 383s 812ms/step - loss: 0.0041 - mean_absolute_error: 0.0309 - val_loss: 0.0035 - val_mean_absolute_error: 0.0352\n",
      "Epoch 5/50\n",
      "471/471 [==============================] - 359s 762ms/step - loss: 0.0041 - mean_absolute_error: 0.0310 - val_loss: 0.0034 - val_mean_absolute_error: 0.0327\n",
      "Epoch 6/50\n",
      "471/471 [==============================] - 390s 828ms/step - loss: 0.0040 - mean_absolute_error: 0.0306 - val_loss: 0.0034 - val_mean_absolute_error: 0.0350\n",
      "Epoch 7/50\n",
      "471/471 [==============================] - 392s 832ms/step - loss: 0.0040 - mean_absolute_error: 0.0305 - val_loss: 0.0034 - val_mean_absolute_error: 0.0336\n",
      "Epoch 8/50\n",
      "471/471 [==============================] - 415s 881ms/step - loss: 0.0039 - mean_absolute_error: 0.0301 - val_loss: 0.0034 - val_mean_absolute_error: 0.0342\n",
      "Epoch 9/50\n",
      "471/471 [==============================] - 405s 860ms/step - loss: 0.0039 - mean_absolute_error: 0.0298 - val_loss: 0.0033 - val_mean_absolute_error: 0.0332\n",
      "Epoch 10/50\n",
      "471/471 [==============================] - 382s 812ms/step - loss: 0.0039 - mean_absolute_error: 0.0299 - val_loss: 0.0033 - val_mean_absolute_error: 0.0319\n",
      "Epoch 11/50\n",
      "471/471 [==============================] - 380s 807ms/step - loss: 0.0039 - mean_absolute_error: 0.0296 - val_loss: 0.0032 - val_mean_absolute_error: 0.0313\n",
      "Epoch 12/50\n",
      "471/471 [==============================] - 424s 901ms/step - loss: 0.0039 - mean_absolute_error: 0.0297 - val_loss: 0.0033 - val_mean_absolute_error: 0.0316\n",
      "Epoch 13/50\n",
      "471/471 [==============================] - 414s 879ms/step - loss: 0.0038 - mean_absolute_error: 0.0294 - val_loss: 0.0033 - val_mean_absolute_error: 0.0332\n"
     ]
    }
   ],
   "source": [
    "early_stopping = EarlyStopping(monitor='val_loss',patience=2, mode='min')\n",
    "history = model.fit_generator(train_generator, epochs=50,validation_data=test_generator,shuffle=False,callbacks=[early_stopping])"
   ]
  },
  {
   "cell_type": "code",
   "execution_count": 81,
   "metadata": {},
   "outputs": [
    {
     "ename": "AttributeError",
     "evalue": "'NoneType' object has no attribute 'save'",
     "output_type": "error",
     "traceback": [
      "\u001b[1;31m---------------------------------------------------------------------------\u001b[0m",
      "\u001b[1;31mAttributeError\u001b[0m                            Traceback (most recent call last)",
      "Cell \u001b[1;32mIn[81], line 2\u001b[0m\n\u001b[0;32m      1\u001b[0m \u001b[38;5;28;01mfrom\u001b[39;00m \u001b[38;5;21;01mtensorflow\u001b[39;00m\u001b[38;5;21;01m.\u001b[39;00m\u001b[38;5;21;01mkeras\u001b[39;00m\u001b[38;5;21;01m.\u001b[39;00m\u001b[38;5;21;01mmodels\u001b[39;00m \u001b[38;5;28;01mimport\u001b[39;00m load_model\n\u001b[1;32m----> 2\u001b[0m \u001b[43mmodel\u001b[49m\u001b[38;5;241;43m.\u001b[39;49m\u001b[43msave\u001b[49m(\u001b[38;5;124m'\u001b[39m\u001b[38;5;124mmultivariate_best.h5\u001b[39m\u001b[38;5;124m'\u001b[39m)\n",
      "\u001b[1;31mAttributeError\u001b[0m: 'NoneType' object has no attribute 'save'"
     ]
    }
   ],
   "source": [
    "from tensorflow.keras.models import load_model\n",
    "model.save('multivariate_best.h5')"
   ]
  },
  {
   "cell_type": "code",
   "execution_count": 82,
   "metadata": {},
   "outputs": [],
   "source": [
    "model = load_model('multivariate_best.h5')"
   ]
  },
  {
   "cell_type": "code",
   "execution_count": 83,
   "metadata": {},
   "outputs": [
    {
     "name": "stderr",
     "output_type": "stream",
     "text": [
      "C:\\Users\\saras\\AppData\\Local\\Temp\\ipykernel_3832\\748299794.py:1: UserWarning: `Model.evaluate_generator` is deprecated and will be removed in a future version. Please use `Model.evaluate`, which supports generators.\n",
      "  model.evaluate_generator(test_generator, verbose=0)\n"
     ]
    },
    {
     "data": {
      "text/plain": [
       "[0.003305356251075864, 0.03323877975344658]"
      ]
     },
     "execution_count": 83,
     "metadata": {},
     "output_type": "execute_result"
    }
   ],
   "source": [
    "model.evaluate_generator(test_generator, verbose=0)  "
   ]
  },
  {
   "cell_type": "code",
   "execution_count": 84,
   "metadata": {},
   "outputs": [
    {
     "name": "stderr",
     "output_type": "stream",
     "text": [
      "C:\\Users\\saras\\AppData\\Local\\Temp\\ipykernel_3832\\2533966764.py:1: UserWarning: `Model.predict_generator` is deprecated and will be removed in a future version. Please use `Model.predict`, which supports generators.\n",
      "  predictions=model.predict_generator(test_generator)\n"
     ]
    }
   ],
   "source": [
    "predictions=model.predict_generator(test_generator)"
   ]
  },
  {
   "cell_type": "code",
   "execution_count": 97,
   "metadata": {},
   "outputs": [
    {
     "data": {
      "text/plain": [
       "(3227, 1)"
      ]
     },
     "execution_count": 97,
     "metadata": {},
     "output_type": "execute_result"
    }
   ],
   "source": [
    "predictions.shape # it uses the first 720 to predict the next data"
   ]
  },
  {
   "cell_type": "code",
   "execution_count": 86,
   "metadata": {},
   "outputs": [
    {
     "data": {
      "text/plain": [
       "array([[0.08138476],\n",
       "       [0.10129745],\n",
       "       [0.12557092],\n",
       "       ...,\n",
       "       [0.10490961],\n",
       "       [0.26552248],\n",
       "       [0.26545662]], dtype=float32)"
      ]
     },
     "execution_count": 86,
     "metadata": {},
     "output_type": "execute_result"
    }
   ],
   "source": [
    "predictions"
   ]
  },
  {
   "cell_type": "code",
   "execution_count": 87,
   "metadata": {},
   "outputs": [
    {
     "data": {
      "text/plain": [
       "array([0.3364486 , 0.54205607, 0.28971963, ..., 0.24299065, 0.38317757,\n",
       "       0.39252336])"
      ]
     },
     "execution_count": 87,
     "metadata": {},
     "output_type": "execute_result"
    }
   ],
   "source": [
    "y_test"
   ]
  },
  {
   "cell_type": "code",
   "execution_count": 88,
   "metadata": {},
   "outputs": [
    {
     "data": {
      "text/plain": [
       "array([[0.3364486 , 0.34297964, 0.30923768, 0.6       ],\n",
       "       [0.54205607, 0.34726688, 0.3055683 , 0.6       ],\n",
       "       [0.28971963, 0.35155413, 0.30455921, 0.6       ],\n",
       "       ...,\n",
       "       [0.24299065, 0.88317256, 0.53866618, 0.37435897],\n",
       "       [0.38317757, 0.87888532, 0.54949087, 0.38717949],\n",
       "       [0.39252336, 0.87459807, 0.53875791, 0.4       ]])"
      ]
     },
     "execution_count": 88,
     "metadata": {},
     "output_type": "execute_result"
    }
   ],
   "source": [
    "X_test"
   ]
  },
  {
   "cell_type": "code",
   "execution_count": 89,
   "metadata": {},
   "outputs": [
    {
     "data": {
      "text/plain": [
       "array([[0.45337621, 0.20851298, 0.6       ],\n",
       "       [0.47106109, 0.18282726, 0.6       ],\n",
       "       [0.48874598, 0.18466196, 0.6       ],\n",
       "       ...,\n",
       "       [0.88317256, 0.53866618, 0.37435897],\n",
       "       [0.87888532, 0.54949087, 0.38717949],\n",
       "       [0.87459807, 0.53875791, 0.4       ]])"
      ]
     },
     "execution_count": 89,
     "metadata": {},
     "output_type": "execute_result"
    }
   ],
   "source": [
    "X_test[:,1:][win_length:] # first 720 data is excluded as predictions wouldnt contain it"
   ]
  },
  {
   "cell_type": "code",
   "execution_count": 90,
   "metadata": {},
   "outputs": [],
   "source": [
    "df_pred=pd.concat([pd.DataFrame(predictions), pd.DataFrame(X_test[:,1:][win_length:])],axis=1) \n",
    "# dataframe with first column as prediction(not y_test) and subsequent columns from X_test"
   ]
  },
  {
   "cell_type": "code",
   "execution_count": 91,
   "metadata": {},
   "outputs": [
    {
     "data": {
      "text/html": [
       "<div>\n",
       "<style scoped>\n",
       "    .dataframe tbody tr th:only-of-type {\n",
       "        vertical-align: middle;\n",
       "    }\n",
       "\n",
       "    .dataframe tbody tr th {\n",
       "        vertical-align: top;\n",
       "    }\n",
       "\n",
       "    .dataframe thead th {\n",
       "        text-align: right;\n",
       "    }\n",
       "</style>\n",
       "<table border=\"1\" class=\"dataframe\">\n",
       "  <thead>\n",
       "    <tr style=\"text-align: right;\">\n",
       "      <th></th>\n",
       "      <th>0</th>\n",
       "      <th>0</th>\n",
       "      <th>1</th>\n",
       "      <th>2</th>\n",
       "    </tr>\n",
       "  </thead>\n",
       "  <tbody>\n",
       "    <tr>\n",
       "      <th>0</th>\n",
       "      <td>0.081385</td>\n",
       "      <td>0.453376</td>\n",
       "      <td>0.208513</td>\n",
       "      <td>0.600000</td>\n",
       "    </tr>\n",
       "    <tr>\n",
       "      <th>1</th>\n",
       "      <td>0.101297</td>\n",
       "      <td>0.471061</td>\n",
       "      <td>0.182827</td>\n",
       "      <td>0.600000</td>\n",
       "    </tr>\n",
       "    <tr>\n",
       "      <th>2</th>\n",
       "      <td>0.125571</td>\n",
       "      <td>0.488746</td>\n",
       "      <td>0.184662</td>\n",
       "      <td>0.600000</td>\n",
       "    </tr>\n",
       "    <tr>\n",
       "      <th>3</th>\n",
       "      <td>0.341084</td>\n",
       "      <td>0.506431</td>\n",
       "      <td>0.193996</td>\n",
       "      <td>0.600000</td>\n",
       "    </tr>\n",
       "    <tr>\n",
       "      <th>4</th>\n",
       "      <td>0.148416</td>\n",
       "      <td>0.524116</td>\n",
       "      <td>0.181818</td>\n",
       "      <td>0.600000</td>\n",
       "    </tr>\n",
       "    <tr>\n",
       "      <th>...</th>\n",
       "      <td>...</td>\n",
       "      <td>...</td>\n",
       "      <td>...</td>\n",
       "      <td>...</td>\n",
       "    </tr>\n",
       "    <tr>\n",
       "      <th>3222</th>\n",
       "      <td>0.104215</td>\n",
       "      <td>0.891747</td>\n",
       "      <td>0.537657</td>\n",
       "      <td>0.348718</td>\n",
       "    </tr>\n",
       "    <tr>\n",
       "      <th>3223</th>\n",
       "      <td>0.115621</td>\n",
       "      <td>0.887460</td>\n",
       "      <td>0.536006</td>\n",
       "      <td>0.361538</td>\n",
       "    </tr>\n",
       "    <tr>\n",
       "      <th>3224</th>\n",
       "      <td>0.104910</td>\n",
       "      <td>0.883173</td>\n",
       "      <td>0.538666</td>\n",
       "      <td>0.374359</td>\n",
       "    </tr>\n",
       "    <tr>\n",
       "      <th>3225</th>\n",
       "      <td>0.265522</td>\n",
       "      <td>0.878885</td>\n",
       "      <td>0.549491</td>\n",
       "      <td>0.387179</td>\n",
       "    </tr>\n",
       "    <tr>\n",
       "      <th>3226</th>\n",
       "      <td>0.265457</td>\n",
       "      <td>0.874598</td>\n",
       "      <td>0.538758</td>\n",
       "      <td>0.400000</td>\n",
       "    </tr>\n",
       "  </tbody>\n",
       "</table>\n",
       "<p>3227 rows × 4 columns</p>\n",
       "</div>"
      ],
      "text/plain": [
       "             0         0         1         2\n",
       "0     0.081385  0.453376  0.208513  0.600000\n",
       "1     0.101297  0.471061  0.182827  0.600000\n",
       "2     0.125571  0.488746  0.184662  0.600000\n",
       "3     0.341084  0.506431  0.193996  0.600000\n",
       "4     0.148416  0.524116  0.181818  0.600000\n",
       "...        ...       ...       ...       ...\n",
       "3222  0.104215  0.891747  0.537657  0.348718\n",
       "3223  0.115621  0.887460  0.536006  0.361538\n",
       "3224  0.104910  0.883173  0.538666  0.374359\n",
       "3225  0.265522  0.878885  0.549491  0.387179\n",
       "3226  0.265457  0.874598  0.538758  0.400000\n",
       "\n",
       "[3227 rows x 4 columns]"
      ]
     },
     "execution_count": 91,
     "metadata": {},
     "output_type": "execute_result"
    }
   ],
   "source": [
    "df_pred"
   ]
  },
  {
   "cell_type": "code",
   "execution_count": 92,
   "metadata": {},
   "outputs": [
    {
     "data": {
      "text/plain": [
       "array([[ 97.08169654,   9.1       ,  34.6       ,  40.        ],\n",
       "       [118.38826679,   9.65      ,  33.66666667,  40.        ],\n",
       "       [144.36088771,  10.2       ,  33.73333333,  40.        ],\n",
       "       ...,\n",
       "       [122.25327872,  22.46666667,  46.59666667,  25.33333333],\n",
       "       [294.10905361,  22.33333333,  46.99      ,  26.16666667],\n",
       "       [294.03858006,  22.2       ,  46.6       ,  27.        ]])"
      ]
     },
     "execution_count": 92,
     "metadata": {},
     "output_type": "execute_result"
    }
   ],
   "source": [
    "rev_trans=scaler.inverse_transform(df_pred) # as inverse transform expects input to have same dimension as that of the input passed to sclaer function\n",
    "rev_trans"
   ]
  },
  {
   "cell_type": "code",
   "execution_count": 93,
   "metadata": {},
   "outputs": [],
   "source": [
    "df_final = df_input[predictions.shape[0]*-1:]"
   ]
  },
  {
   "cell_type": "code",
   "execution_count": 94,
   "metadata": {},
   "outputs": [
    {
     "name": "stderr",
     "output_type": "stream",
     "text": [
      "C:\\Users\\saras\\AppData\\Local\\Temp\\ipykernel_3832\\2704095297.py:1: SettingWithCopyWarning: \n",
      "A value is trying to be set on a copy of a slice from a DataFrame.\n",
      "Try using .loc[row_indexer,col_indexer] = value instead\n",
      "\n",
      "See the caveats in the documentation: https://pandas.pydata.org/pandas-docs/stable/user_guide/indexing.html#returning-a-view-versus-a-copy\n",
      "  df_final['App_Pred']=rev_trans[:,0]\n"
     ]
    }
   ],
   "source": [
    "df_final['App_Pred']=rev_trans[:,0]"
   ]
  },
  {
   "cell_type": "code",
   "execution_count": 95,
   "metadata": {},
   "outputs": [
    {
     "data": {
      "text/html": [
       "<div>\n",
       "<style scoped>\n",
       "    .dataframe tbody tr th:only-of-type {\n",
       "        vertical-align: middle;\n",
       "    }\n",
       "\n",
       "    .dataframe tbody tr th {\n",
       "        vertical-align: top;\n",
       "    }\n",
       "\n",
       "    .dataframe thead th {\n",
       "        text-align: right;\n",
       "    }\n",
       "</style>\n",
       "<table border=\"1\" class=\"dataframe\">\n",
       "  <thead>\n",
       "    <tr style=\"text-align: right;\">\n",
       "      <th></th>\n",
       "      <th>Appliances</th>\n",
       "      <th>T_out</th>\n",
       "      <th>RH_1</th>\n",
       "      <th>Visibility</th>\n",
       "      <th>App_Pred</th>\n",
       "    </tr>\n",
       "  </thead>\n",
       "  <tbody>\n",
       "    <tr>\n",
       "      <th>16508</th>\n",
       "      <td>90</td>\n",
       "      <td>9.100000</td>\n",
       "      <td>34.600000</td>\n",
       "      <td>40.000000</td>\n",
       "      <td>97.081697</td>\n",
       "    </tr>\n",
       "    <tr>\n",
       "      <th>16509</th>\n",
       "      <td>120</td>\n",
       "      <td>9.650000</td>\n",
       "      <td>33.666667</td>\n",
       "      <td>40.000000</td>\n",
       "      <td>118.388267</td>\n",
       "    </tr>\n",
       "    <tr>\n",
       "      <th>16510</th>\n",
       "      <td>390</td>\n",
       "      <td>10.200000</td>\n",
       "      <td>33.733333</td>\n",
       "      <td>40.000000</td>\n",
       "      <td>144.360888</td>\n",
       "    </tr>\n",
       "    <tr>\n",
       "      <th>16511</th>\n",
       "      <td>240</td>\n",
       "      <td>10.750000</td>\n",
       "      <td>34.072500</td>\n",
       "      <td>40.000000</td>\n",
       "      <td>374.960394</td>\n",
       "    </tr>\n",
       "    <tr>\n",
       "      <th>16512</th>\n",
       "      <td>120</td>\n",
       "      <td>11.300000</td>\n",
       "      <td>33.630000</td>\n",
       "      <td>40.000000</td>\n",
       "      <td>168.805006</td>\n",
       "    </tr>\n",
       "    <tr>\n",
       "      <th>...</th>\n",
       "      <td>...</td>\n",
       "      <td>...</td>\n",
       "      <td>...</td>\n",
       "      <td>...</td>\n",
       "      <td>...</td>\n",
       "    </tr>\n",
       "    <tr>\n",
       "      <th>19730</th>\n",
       "      <td>100</td>\n",
       "      <td>22.733333</td>\n",
       "      <td>46.560000</td>\n",
       "      <td>23.666667</td>\n",
       "      <td>121.510508</td>\n",
       "    </tr>\n",
       "    <tr>\n",
       "      <th>19731</th>\n",
       "      <td>90</td>\n",
       "      <td>22.600000</td>\n",
       "      <td>46.500000</td>\n",
       "      <td>24.500000</td>\n",
       "      <td>133.714096</td>\n",
       "    </tr>\n",
       "    <tr>\n",
       "      <th>19732</th>\n",
       "      <td>270</td>\n",
       "      <td>22.466667</td>\n",
       "      <td>46.596667</td>\n",
       "      <td>25.333333</td>\n",
       "      <td>122.253279</td>\n",
       "    </tr>\n",
       "    <tr>\n",
       "      <th>19733</th>\n",
       "      <td>420</td>\n",
       "      <td>22.333333</td>\n",
       "      <td>46.990000</td>\n",
       "      <td>26.166667</td>\n",
       "      <td>294.109054</td>\n",
       "    </tr>\n",
       "    <tr>\n",
       "      <th>19734</th>\n",
       "      <td>430</td>\n",
       "      <td>22.200000</td>\n",
       "      <td>46.600000</td>\n",
       "      <td>27.000000</td>\n",
       "      <td>294.038580</td>\n",
       "    </tr>\n",
       "  </tbody>\n",
       "</table>\n",
       "<p>3227 rows × 5 columns</p>\n",
       "</div>"
      ],
      "text/plain": [
       "       Appliances      T_out       RH_1  Visibility    App_Pred\n",
       "16508          90   9.100000  34.600000   40.000000   97.081697\n",
       "16509         120   9.650000  33.666667   40.000000  118.388267\n",
       "16510         390  10.200000  33.733333   40.000000  144.360888\n",
       "16511         240  10.750000  34.072500   40.000000  374.960394\n",
       "16512         120  11.300000  33.630000   40.000000  168.805006\n",
       "...           ...        ...        ...         ...         ...\n",
       "19730         100  22.733333  46.560000   23.666667  121.510508\n",
       "19731          90  22.600000  46.500000   24.500000  133.714096\n",
       "19732         270  22.466667  46.596667   25.333333  122.253279\n",
       "19733         420  22.333333  46.990000   26.166667  294.109054\n",
       "19734         430  22.200000  46.600000   27.000000  294.038580\n",
       "\n",
       "[3227 rows x 5 columns]"
      ]
     },
     "execution_count": 95,
     "metadata": {},
     "output_type": "execute_result"
    }
   ],
   "source": [
    "#comparison between actuals(Appliances) and predicted(App_Pred)\n",
    "df_final"
   ]
  },
  {
   "cell_type": "code",
   "execution_count": 96,
   "metadata": {},
   "outputs": [
    {
     "data": {
      "text/plain": [
       "<Axes: >"
      ]
     },
     "execution_count": 96,
     "metadata": {},
     "output_type": "execute_result"
    },
    {
     "data": {
      "image/png": "[encoded data removed]",
      "text/plain": [
       "<Figure size 1000x800 with 1 Axes>"
      ]
     },
     "metadata": {},
     "output_type": "display_data"
    }
   ],
   "source": [
    "df_final[['Appliances','App_Pred']].plot()"
   ]
  },
  {
   "cell_type": "code",
   "execution_count": 113,
   "metadata": {},
   "outputs": [
    {
     "data": {
      "text/plain": [
       "((3227,),\n",
       " array([0.07476636, 0.10280374, 0.35514019, ..., 0.24299065, 0.38317757,\n",
       "        0.39252336]))"
      ]
     },
     "execution_count": 113,
     "metadata": {},
     "output_type": "execute_result"
    }
   ],
   "source": [
    "y_test[win_length:].shape, y_test[win_length:]"
   ]
  },
  {
   "cell_type": "code",
   "execution_count": 110,
   "metadata": {},
   "outputs": [
    {
     "data": {
      "text/plain": [
       "((3227,),\n",
       " array([0.08138476, 0.10129745, 0.12557092, ..., 0.10490961, 0.26552248,\n",
       "        0.26545662], dtype=float32))"
      ]
     },
     "execution_count": 110,
     "metadata": {},
     "output_type": "execute_result"
    }
   ],
   "source": [
    "predictions[:,0].shape,predictions[:,0]"
   ]
  },
  {
   "cell_type": "code",
   "execution_count": 114,
   "metadata": {},
   "outputs": [
    {
     "name": "stdout",
     "output_type": "stream",
     "text": [
      "Test Score: 0.06 RMSE\n"
     ]
    }
   ],
   "source": [
    "# calculate root mean squared error\n",
    "\n",
    "import math\n",
    "testScore = math.sqrt(mean_squared_error(y_test[win_length:], predictions[:,0]))\n",
    "print('Test Score: %.2f RMSE' % (testScore))"
   ]
  },
  {
   "cell_type": "markdown",
   "metadata": {},
   "source": [
    "The model performance is good as the RMSE is low"
   ]
  },
  {
   "cell_type": "markdown",
   "metadata": {},
   "source": []
  }
 ],
 "metadata": {
  "kernelspec": {
   "display_name": "Python 3",
   "language": "python",
   "name": "python3"
  },
  "language_info": {
   "codemirror_mode": {
    "name": "ipython",
    "version": 3
   },
   "file_extension": ".py",
   "mimetype": "text/x-python",
   "name": "python",
   "nbconvert_exporter": "python",
   "pygments_lexer": "ipython3",
   "version": "3.9.0"
  }
 },
 "nbformat": 4,
 "nbformat_minor": 2
}
